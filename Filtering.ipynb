{
 "cells": [
  {
   "cell_type": "code",
   "execution_count": 1,
   "metadata": {},
   "outputs": [],
   "source": [
    "import pandas as pd\n",
    "import networkx as nx"
   ]
  },
  {
   "cell_type": "code",
   "execution_count": 2,
   "metadata": {},
   "outputs": [],
   "source": [
    "import database.pocket_feature as pf\n",
    "import database.chemicals as chem"
   ]
  },
  {
   "cell_type": "code",
   "execution_count": 3,
   "metadata": {},
   "outputs": [],
   "source": [
    "def scaffold_hop(pf_range=[0., 1.], lig_range=[0.,1.]):\n",
    "    PFG = pf.network(low=pf_range[0], high=pf_range[1])\n",
    "    LIG = chem.network(low=lig_range[0], high=lig_range[1])\n",
    "    return scaffold_hop_network(PFG, LIG)\n",
    "    \n",
    "def scaffold_hop_network(PFG, LIG):\n",
    "    SHG = PFG.copy()\n",
    "    for ligand_0, ligand_1 in PFG.edges:\n",
    "        try:\n",
    "            ligand_score = LIG[ligand_0][ligand_1]['weight']\n",
    "            pf_score = PFG[ligand_0][ligand_1]['weight']\n",
    "\n",
    "            SHG[ligand_0][ligand_1]['weight'] = pf_score/ligand_score\n",
    "            SHG[ligand_0][ligand_1]['pf_score'] = pf_score\n",
    "            SHG[ligand_0][ligand_1]['lig_score'] = ligand_score\n",
    "\n",
    "        except KeyError:\n",
    "            SHG.remove_edge(ligand_0, ligand_1)\n",
    "    return SHG"
   ]
  },
  {
   "cell_type": "code",
   "execution_count": 4,
   "metadata": {},
   "outputs": [],
   "source": [
    "SHG = scaffold_hop(pf_range=[0.6, 1.], lig_range=[0.,8.])"
   ]
  },
  {
   "cell_type": "code",
   "execution_count": 5,
   "metadata": {},
   "outputs": [],
   "source": [
    "all_pockets = []\n",
    "for u,v in SHG.edges:\n",
    "    pockets = SHG[u][v]['id']\n",
    "    all_pockets.extend(pockets)\n",
    "    \n",
    "structures, ligands = zip( *[i.split('_') for i in set(all_pockets)] )\n",
    "\n",
    "structures = list(set(structures))\n",
    "ligands = list(set(ligands))"
   ]
  },
  {
   "cell_type": "code",
   "execution_count": 6,
   "metadata": {},
   "outputs": [],
   "source": [
    "from networkx.algorithms import bipartite\n",
    "\n",
    "def projected_graph(Graph):\n",
    "    nx.set_node_attributes(Graph, bipartite.color(Graph), name='color')\n",
    "\n",
    "    top = [i for i in Graph.nodes if Graph.nodes[i]['color'] == 1]\n",
    "    projected = bipartite.overlap_weighted_projected_graph(Graph, top)\n",
    "    return projected"
   ]
  },
  {
   "cell_type": "code",
   "execution_count": 9,
   "metadata": {},
   "outputs": [],
   "source": [
    "pdb_uniprot_mapping = pd.read_csv(pdb2uniprot(structures), sep='\\t')\n",
    "PUG = nx.from_pandas_edgelist(pdb_uniprot_mapping, source='From', target='To')"
   ]
  },
  {
   "cell_type": "code",
   "execution_count": 10,
   "metadata": {},
   "outputs": [],
   "source": [
    "uniprot_filter = projected_graph(PUG)"
   ]
  },
  {
   "cell_type": "code",
   "execution_count": 11,
   "metadata": {},
   "outputs": [],
   "source": [
    "pdb_pfam_mapping = pfam('')"
   ]
  },
  {
   "cell_type": "code",
   "execution_count": 12,
   "metadata": {},
   "outputs": [],
   "source": [
    "pdb_pfam_df = pd.DataFrame(pdb_pfam_mapping).groupby('structureId')"
   ]
  },
  {
   "cell_type": "code",
   "execution_count": 13,
   "metadata": {},
   "outputs": [],
   "source": [
    "agg = []\n",
    "for i in structures:\n",
    "    try:\n",
    "        agg.append( pdb_pfam_df.get_group(i.upper()) )\n",
    "    except KeyError:\n",
    "        pass\n",
    "\n",
    "pfam_df = pd.concat(agg)"
   ]
  },
  {
   "cell_type": "code",
   "execution_count": 14,
   "metadata": {},
   "outputs": [],
   "source": [
    "pfam_df['structureId'] = pfam_df['structureId'].str.lower()"
   ]
  },
  {
   "cell_type": "code",
   "execution_count": 15,
   "metadata": {},
   "outputs": [],
   "source": [
    "PfamG = nx.from_pandas_edgelist(pfam_df, source='structureId', target='pfamAcc')\n",
    "pfam_filter = projected_graph(PfamG)"
   ]
  },
  {
   "cell_type": "code",
   "execution_count": 94,
   "metadata": {},
   "outputs": [],
   "source": [
    "filtered = SHG.copy()\n",
    "for u,v in filtered.edges:\n",
    "    try:\n",
    "        pdb_0, pdb_1 = [i.split('_')[0] for i in filtered[u][v]['id']]\n",
    "        if uniprot_filter[pdb_0][pdb_1]['weight'] >= 0.3:\n",
    "            filtered.remove_edge(u,v)\n",
    "    except KeyError:\n",
    "        pass\n",
    "#         filtered.remove_edge(u,v)"
   ]
  },
  {
   "cell_type": "code",
   "execution_count": 95,
   "metadata": {},
   "outputs": [
    {
     "data": {
      "text/plain": [
       "'Name: \\nType: Graph\\nNumber of nodes: 592\\nNumber of edges: 401\\nAverage degree:   1.3547'"
      ]
     },
     "execution_count": 95,
     "metadata": {},
     "output_type": "execute_result"
    }
   ],
   "source": [
    "nx.info(filtered)"
   ]
  },
  {
   "cell_type": "code",
   "execution_count": 96,
   "metadata": {},
   "outputs": [],
   "source": [
    "from pprint import pprint\n",
    "sorted_scores = sorted(filtered.edges(data=True), key=lambda x: x[2]['weight'], reverse=True)\n",
    "# pprint(sorted(SHG.edges(data=True), key=lambda x: x[2]['weight'], reverse=True)[:10])"
   ]
  },
  {
   "cell_type": "code",
   "execution_count": 97,
   "metadata": {},
   "outputs": [],
   "source": [
    "from services.pdb import pfam, pdbligand, pdbmolecule\n",
    "from services.classyfire import classyfire\n",
    "from services.uniprot import pdb2uniprot\n",
    "from services.pubchem import get_image"
   ]
  },
  {
   "cell_type": "code",
   "execution_count": 98,
   "metadata": {},
   "outputs": [
    {
     "data": {
      "image/png": "[encoded data removed]",
      "text/plain": [
       "<IPython.core.display.Image object>"
      ]
     },
     "metadata": {},
     "output_type": "display_data"
    },
    {
     "data": {
      "text/html": [
       "BYH<br>1-[2-(1H-BENZIMIDAZOL-2-YLSULFANYL)ETHYL]-3-METHYL-1,3-DIHYDRO-2H-BENZIMIDAZOLE-2-THIONE<br>C17 H16 N4 S2<br>340.466<br>Benzimidazoles<br>This compound belongs to the class of organic compounds known as benzimidazoles. These are organic compounds containing a benzene ring fused to an imidazole ring (five member ring containing a nitrogen atom, 4 carbon atoms, and two double bonds)."
      ],
      "text/plain": [
       "<IPython.core.display.HTML object>"
      ]
     },
     "metadata": {},
     "output_type": "display_data"
    },
    {
     "data": {
      "image/png": "[encoded data removed]",
      "text/plain": [
       "<IPython.core.display.Image object>"
      ]
     },
     "metadata": {},
     "output_type": "display_data"
    },
    {
     "data": {
      "text/html": [
       "73B<br>4-[(2S,4R)-1-ACETYL-4-[(4-CHLOROPHENYL)AMINO]-2-METHYL-1,2,3,4-TETRAHYDROQUINOLIN-6-YL]BENZOIC ACID<br>C25 H23 CL N2 O3<br>434.915<br>Phenylquinolines<br>This compound belongs to the class of organic compounds known as phenylquinolines. These are heterocyclic compounds containing a quinoline moiety substituted with a phenyl group."
      ],
      "text/plain": [
       "<IPython.core.display.HTML object>"
      ]
     },
     "metadata": {},
     "output_type": "display_data"
    }
   ],
   "source": [
    "import IPython.display as Disp\n",
    "\n",
    "# image size can be 'large' or 'small'\n",
    "image_size = 'large'\n",
    "\n",
    "idx = 9\n",
    "edge = sorted_scores[idx]\n",
    "lig_0 = edge[0]\n",
    "lig_1 = edge[1]\n",
    "\n",
    "lig_info = pdbligand( ','.join([lig_0, lig_1]) )\n",
    "keys = ['chemicalID','chemicalName', 'formula', 'molecularWeight']\n",
    "classes = []\n",
    "for info in lig_info:\n",
    "    inchi = info['InChIKey']\n",
    "    co_classes = classyfire(inchi)\n",
    "    classes.append(co_classes)\n",
    "    txt = [co_classes['direct_parent']['name'], co_classes['description']]\n",
    "    image = get_image(inchi, image_size=image_size)\n",
    "#     url = f'https://pubchem.ncbi.nlm.nih.gov/rest/pug/compound/inchikey/{inchi}/PNG?image_size={image_size}' \n",
    "#     image = requests.get(url).content\n",
    "    text = '<br>'.join( [info[key].upper() for key in keys] + txt )\n",
    "    Disp.display( Disp.Image(image), Disp.HTML(text) )"
   ]
  },
  {
   "cell_type": "code",
   "execution_count": 99,
   "metadata": {},
   "outputs": [
    {
     "name": "stdout",
     "output_type": "stream",
     "text": [
      "[{'id': '4BJX',\n",
      "  'polymer': {'Taxonomy': {'id': '9606', 'name': 'Homo sapiens'},\n",
      "              'chain': {'id': 'A'},\n",
      "              'entityNr': '1',\n",
      "              'fragment': {'desc': 'N-TERMINAL BROMODOMAIN, RESIDUES 44-168'},\n",
      "              'length': '153',\n",
      "              'macroMolecule': {'accession': {'id': 'O60885'},\n",
      "                                'name': 'Bromodomain-containing protein 4'},\n",
      "              'polymerDescription': {'description': 'BROMODOMAIN-CONTAINING '\n",
      "                                                    'PROTEIN 4'},\n",
      "              'synonym': {'name': 'PROTEIN HUNK1, BRD4'},\n",
      "              'type': 'protein',\n",
      "              'weight': '17939.5'}},\n",
      " {'id': '3AQA',\n",
      "  'polymer': {'Taxonomy': {'id': '9606', 'name': 'Homo sapiens'},\n",
      "              'chain': [{'id': 'A'}, {'id': 'B'}, {'id': 'C'}],\n",
      "              'entityNr': '1',\n",
      "              'fragment': {'desc': 'residues 73-194'},\n",
      "              'length': '128',\n",
      "              'macroMolecule': {'accession': {'id': 'P25440'},\n",
      "                                'name': 'Bromodomain-containing protein 2'},\n",
      "              'polymerDescription': {'description': 'Bromodomain-containing '\n",
      "                                                    'protein 2'},\n",
      "              'type': 'protein',\n",
      "              'weight': '15262.6'}}]\n"
     ]
    }
   ],
   "source": [
    "def extract_pdbids(edge_data):\n",
    "    pdbs = edge_data['id']\n",
    "    return ','.join([i.split('_')[0] for i in pdbs])\n",
    "\n",
    "pprint(pdbmolecule(extract_pdbids(edge[2])))"
   ]
  },
  {
   "cell_type": "code",
   "execution_count": 100,
   "metadata": {},
   "outputs": [
    {
     "data": {
      "text/plain": [
       "('BYH',\n",
       " '73B',\n",
       " {'id': ['4bjx_73B', '3aqa_BYH'],\n",
       "  'weight': 2.925113299937984,\n",
       "  'pf_score': 0.72542809838462,\n",
       "  'lig_score': 0.248})"
      ]
     },
     "execution_count": 100,
     "metadata": {},
     "output_type": "execute_result"
    }
   ],
   "source": [
    "edge"
   ]
  },
  {
   "cell_type": "code",
   "execution_count": null,
   "metadata": {},
   "outputs": [],
   "source": []
  }
 ],
 "metadata": {
  "kernelspec": {
   "display_name": "Python 3",
   "language": "python",
   "name": "python3"
  },
  "language_info": {
   "codemirror_mode": {
    "name": "ipython",
    "version": 3
   },
   "file_extension": ".py",
   "mimetype": "text/x-python",
   "name": "python",
   "nbconvert_exporter": "python",
   "pygments_lexer": "ipython3",
   "version": "3.6.5"
  }
 },
 "nbformat": 4,
 "nbformat_minor": 2
}
