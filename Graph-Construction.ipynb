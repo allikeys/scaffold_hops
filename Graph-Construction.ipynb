{
 "cells": [
  {
   "cell_type": "markdown",
   "metadata": {},
   "source": [
    "# Graph Construction\n",
    "\n",
    "This notebook holds code for constructing the graph for the pocket feature REST API."
   ]
  },
  {
   "cell_type": "code",
   "execution_count": 1,
   "metadata": {},
   "outputs": [],
   "source": [
    "import pandas as pd\n",
    "import networkx as nx\n",
    "import numpy as np"
   ]
  },
  {
   "cell_type": "markdown",
   "metadata": {},
   "source": [
    "## Import Node Info"
   ]
  },
  {
   "cell_type": "code",
   "execution_count": 2,
   "metadata": {},
   "outputs": [],
   "source": [
    "all_info = pd.read_csv('./data/scPDB_Results.tsv', sep='\\t')\n",
    "all_info['Uniprot_Name'] = all_info['Uniprot_Name'].str.split(pat = \"//\").str[-1]\n",
    "all_info['Uniprot_AC'] = all_info['Uniprot_AC'].str.split(pat = \"//\").str[-1]\n",
    "all_info['Uniprot_ID'] = all_info['Uniprot_ID'].str.split(pat = \"//\").str[-1]"
   ]
  },
  {
   "cell_type": "code",
   "execution_count": 3,
   "metadata": {},
   "outputs": [
    {
     "data": {
      "text/html": [
       "<div>\n",
       "<style scoped>\n",
       "    .dataframe tbody tr th:only-of-type {\n",
       "        vertical-align: middle;\n",
       "    }\n",
       "\n",
       "    .dataframe tbody tr th {\n",
       "        vertical-align: top;\n",
       "    }\n",
       "\n",
       "    .dataframe thead th {\n",
       "        text-align: right;\n",
       "    }\n",
       "</style>\n",
       "<table border=\"1\" class=\"dataframe\">\n",
       "  <thead>\n",
       "    <tr style=\"text-align: right;\">\n",
       "      <th></th>\n",
       "      <th>PDB_ID</th>\n",
       "      <th>Site_Number</th>\n",
       "      <th>Deposition_Date</th>\n",
       "      <th>Chimeric_entry</th>\n",
       "      <th>Experimental_Method</th>\n",
       "      <th>Chains</th>\n",
       "      <th>ChainPercentageInSite</th>\n",
       "      <th>Uniprot_Name</th>\n",
       "      <th>Uniprot_AC</th>\n",
       "      <th>Uniprot_ID</th>\n",
       "      <th>...</th>\n",
       "      <th>IF_bit_7</th>\n",
       "      <th>IF_bit_8</th>\n",
       "      <th>ClusterID</th>\n",
       "      <th>Cluster_Name</th>\n",
       "      <th>Cavity_Volume</th>\n",
       "      <th>Cavity_Hydrophobicity</th>\n",
       "      <th>Cavity_Polar</th>\n",
       "      <th>Cavity_Dummy</th>\n",
       "      <th>Cavity_Ligand_Recovery</th>\n",
       "      <th>Ligand_Cavity_Recovery</th>\n",
       "    </tr>\n",
       "  </thead>\n",
       "  <tbody>\n",
       "    <tr>\n",
       "      <th>0</th>\n",
       "      <td>11bg</td>\n",
       "      <td>2</td>\n",
       "      <td>1999-03-11</td>\n",
       "      <td>0.0</td>\n",
       "      <td>XRay</td>\n",
       "      <td>A//B</td>\n",
       "      <td>82.00//18.00</td>\n",
       "      <td>Seminal ribonuclease</td>\n",
       "      <td>P00669</td>\n",
       "      <td>RNS_BOVIN</td>\n",
       "      <td>...</td>\n",
       "      <td>0.0</td>\n",
       "      <td>0.0</td>\n",
       "      <td>NaN</td>\n",
       "      <td>NaN</td>\n",
       "      <td>482.625</td>\n",
       "      <td>20.2797</td>\n",
       "      <td>60.1399</td>\n",
       "      <td>19.5804</td>\n",
       "      <td>0.0</td>\n",
       "      <td>30.0699</td>\n",
       "    </tr>\n",
       "    <tr>\n",
       "      <th>1</th>\n",
       "      <td>12gs</td>\n",
       "      <td>1</td>\n",
       "      <td>1997-11-19</td>\n",
       "      <td>0.0</td>\n",
       "      <td>XRay</td>\n",
       "      <td>A//B</td>\n",
       "      <td>93.00//7.00</td>\n",
       "      <td>Glutathione S-transferase P</td>\n",
       "      <td>P09211</td>\n",
       "      <td>GSTP1_HUMAN</td>\n",
       "      <td>...</td>\n",
       "      <td>1.0</td>\n",
       "      <td>0.0</td>\n",
       "      <td>NaN</td>\n",
       "      <td>NaN</td>\n",
       "      <td>975.375</td>\n",
       "      <td>34.9481</td>\n",
       "      <td>50.5190</td>\n",
       "      <td>14.5329</td>\n",
       "      <td>0.0</td>\n",
       "      <td>20.0692</td>\n",
       "    </tr>\n",
       "    <tr>\n",
       "      <th>2</th>\n",
       "      <td>13gs</td>\n",
       "      <td>1</td>\n",
       "      <td>1997-11-20</td>\n",
       "      <td>0.0</td>\n",
       "      <td>XRay</td>\n",
       "      <td>A</td>\n",
       "      <td>100.00</td>\n",
       "      <td>Glutathione S-transferase P</td>\n",
       "      <td>P09211</td>\n",
       "      <td>GSTP1_HUMAN</td>\n",
       "      <td>...</td>\n",
       "      <td>0.0</td>\n",
       "      <td>0.0</td>\n",
       "      <td>NaN</td>\n",
       "      <td>NaN</td>\n",
       "      <td>857.250</td>\n",
       "      <td>31.8898</td>\n",
       "      <td>55.9055</td>\n",
       "      <td>12.2047</td>\n",
       "      <td>0.0</td>\n",
       "      <td>21.6535</td>\n",
       "    </tr>\n",
       "    <tr>\n",
       "      <th>3</th>\n",
       "      <td>17gs</td>\n",
       "      <td>1</td>\n",
       "      <td>1997-12-07</td>\n",
       "      <td>0.0</td>\n",
       "      <td>XRay</td>\n",
       "      <td>A//B</td>\n",
       "      <td>93.00//7.00</td>\n",
       "      <td>Glutathione S-transferase P</td>\n",
       "      <td>P09211</td>\n",
       "      <td>GSTP1_HUMAN</td>\n",
       "      <td>...</td>\n",
       "      <td>1.0</td>\n",
       "      <td>0.0</td>\n",
       "      <td>NaN</td>\n",
       "      <td>NaN</td>\n",
       "      <td>999.000</td>\n",
       "      <td>32.0946</td>\n",
       "      <td>56.7568</td>\n",
       "      <td>11.1486</td>\n",
       "      <td>0.0</td>\n",
       "      <td>21.6216</td>\n",
       "    </tr>\n",
       "    <tr>\n",
       "      <th>4</th>\n",
       "      <td>1a26</td>\n",
       "      <td>1</td>\n",
       "      <td>1998-01-16</td>\n",
       "      <td>0.0</td>\n",
       "      <td>XRay</td>\n",
       "      <td>A</td>\n",
       "      <td>100.00</td>\n",
       "      <td>Poly [ADP-ribose] polymerase 1</td>\n",
       "      <td>P26446</td>\n",
       "      <td>PARP1_CHICK</td>\n",
       "      <td>...</td>\n",
       "      <td>0.0</td>\n",
       "      <td>0.0</td>\n",
       "      <td>NaN</td>\n",
       "      <td>NaN</td>\n",
       "      <td>837.000</td>\n",
       "      <td>43.9516</td>\n",
       "      <td>45.1613</td>\n",
       "      <td>10.8871</td>\n",
       "      <td>0.0</td>\n",
       "      <td>4.0323</td>\n",
       "    </tr>\n",
       "  </tbody>\n",
       "</table>\n",
       "<p>5 rows × 62 columns</p>\n",
       "</div>"
      ],
      "text/plain": [
       "  PDB_ID  Site_Number Deposition_Date  Chimeric_entry Experimental_Method  \\\n",
       "0   11bg            2      1999-03-11             0.0                XRay   \n",
       "1   12gs            1      1997-11-19             0.0                XRay   \n",
       "2   13gs            1      1997-11-20             0.0                XRay   \n",
       "3   17gs            1      1997-12-07             0.0                XRay   \n",
       "4   1a26            1      1998-01-16             0.0                XRay   \n",
       "\n",
       "  Chains ChainPercentageInSite                    Uniprot_Name Uniprot_AC  \\\n",
       "0   A//B          82.00//18.00            Seminal ribonuclease     P00669   \n",
       "1   A//B           93.00//7.00     Glutathione S-transferase P     P09211   \n",
       "2      A                100.00     Glutathione S-transferase P     P09211   \n",
       "3   A//B           93.00//7.00     Glutathione S-transferase P     P09211   \n",
       "4      A                100.00  Poly [ADP-ribose] polymerase 1     P26446   \n",
       "\n",
       "    Uniprot_ID  ... IF_bit_7 IF_bit_8 ClusterID Cluster_Name Cavity_Volume  \\\n",
       "0    RNS_BOVIN  ...      0.0      0.0       NaN          NaN       482.625   \n",
       "1  GSTP1_HUMAN  ...      1.0      0.0       NaN          NaN       975.375   \n",
       "2  GSTP1_HUMAN  ...      0.0      0.0       NaN          NaN       857.250   \n",
       "3  GSTP1_HUMAN  ...      1.0      0.0       NaN          NaN       999.000   \n",
       "4  PARP1_CHICK  ...      0.0      0.0       NaN          NaN       837.000   \n",
       "\n",
       "  Cavity_Hydrophobicity Cavity_Polar Cavity_Dummy Cavity_Ligand_Recovery  \\\n",
       "0               20.2797      60.1399      19.5804                    0.0   \n",
       "1               34.9481      50.5190      14.5329                    0.0   \n",
       "2               31.8898      55.9055      12.2047                    0.0   \n",
       "3               32.0946      56.7568      11.1486                    0.0   \n",
       "4               43.9516      45.1613      10.8871                    0.0   \n",
       "\n",
       "  Ligand_Cavity_Recovery  \n",
       "0                30.0699  \n",
       "1                20.0692  \n",
       "2                21.6535  \n",
       "3                21.6216  \n",
       "4                 4.0323  \n",
       "\n",
       "[5 rows x 62 columns]"
      ]
     },
     "execution_count": 3,
     "metadata": {},
     "output_type": "execute_result"
    }
   ],
   "source": [
    "all_info.head()"
   ]
  },
  {
   "cell_type": "markdown",
   "metadata": {},
   "source": [
    "## Import Pocket Feature Scores"
   ]
  },
  {
   "cell_type": "code",
   "execution_count": 4,
   "metadata": {},
   "outputs": [],
   "source": [
    "pf = pd.read_csv('./data/pocket_feature_scores.csv', header=None, names=['pocket_0', 'pocket_1', 'weight'])"
   ]
  },
  {
   "cell_type": "code",
   "execution_count": 5,
   "metadata": {},
   "outputs": [
    {
     "data": {
      "text/html": [
       "<div>\n",
       "<style scoped>\n",
       "    .dataframe tbody tr th:only-of-type {\n",
       "        vertical-align: middle;\n",
       "    }\n",
       "\n",
       "    .dataframe tbody tr th {\n",
       "        vertical-align: top;\n",
       "    }\n",
       "\n",
       "    .dataframe thead th {\n",
       "        text-align: right;\n",
       "    }\n",
       "</style>\n",
       "<table border=\"1\" class=\"dataframe\">\n",
       "  <thead>\n",
       "    <tr style=\"text-align: right;\">\n",
       "      <th></th>\n",
       "      <th>pocket_0</th>\n",
       "      <th>pocket_1</th>\n",
       "      <th>weight</th>\n",
       "    </tr>\n",
       "  </thead>\n",
       "  <tbody>\n",
       "    <tr>\n",
       "      <th>0</th>\n",
       "      <td>1v1a_KDG</td>\n",
       "      <td>1v1a_KDG</td>\n",
       "      <td>-11.400</td>\n",
       "    </tr>\n",
       "    <tr>\n",
       "      <th>1</th>\n",
       "      <td>1v25_ANP</td>\n",
       "      <td>1v1a_KDG</td>\n",
       "      <td>-2.065</td>\n",
       "    </tr>\n",
       "    <tr>\n",
       "      <th>2</th>\n",
       "      <td>1v25_ANP</td>\n",
       "      <td>1v25_ANP</td>\n",
       "      <td>-18.600</td>\n",
       "    </tr>\n",
       "    <tr>\n",
       "      <th>3</th>\n",
       "      <td>1v3s_ATP</td>\n",
       "      <td>1v1a_KDG</td>\n",
       "      <td>-1.515</td>\n",
       "    </tr>\n",
       "    <tr>\n",
       "      <th>4</th>\n",
       "      <td>1v3s_ATP</td>\n",
       "      <td>1v25_ANP</td>\n",
       "      <td>-3.144</td>\n",
       "    </tr>\n",
       "  </tbody>\n",
       "</table>\n",
       "</div>"
      ],
      "text/plain": [
       "   pocket_0  pocket_1  weight\n",
       "0  1v1a_KDG  1v1a_KDG -11.400\n",
       "1  1v25_ANP  1v1a_KDG  -2.065\n",
       "2  1v25_ANP  1v25_ANP -18.600\n",
       "3  1v3s_ATP  1v1a_KDG  -1.515\n",
       "4  1v3s_ATP  1v25_ANP  -3.144"
      ]
     },
     "execution_count": 5,
     "metadata": {},
     "output_type": "execute_result"
    }
   ],
   "source": [
    "pf.head()"
   ]
  },
  {
   "cell_type": "code",
   "execution_count": 6,
   "metadata": {},
   "outputs": [],
   "source": [
    "PFG = nx.from_pandas_edgelist(pf, source='pocket_0', target='pocket_1', edge_attr='weight')"
   ]
  },
  {
   "cell_type": "markdown",
   "metadata": {},
   "source": [
    "## Normalize Pocket Feature Scores"
   ]
  },
  {
   "cell_type": "code",
   "execution_count": 8,
   "metadata": {},
   "outputs": [],
   "source": [
    "pf_matrix = nx.to_pandas_adjacency(PFG, dtype=np.float64)\n",
    "\n",
    "diagonal = np.sqrt(np.diag(-1*pf_matrix))\n",
    "denominator = np.outer(diagonal, diagonal)\n",
    "normalized = 1 - (-1*pf_matrix)/denominator\n",
    "\n",
    "np.fill_diagonal(normalized.values, np.nan)\n",
    "normalized_edges = normalized.stack().reset_index()\n",
    "normalized_edges = normalized_edges.rename(columns={0:'weight'})"
   ]
  },
  {
   "cell_type": "code",
   "execution_count": 9,
   "metadata": {},
   "outputs": [
    {
     "data": {
      "text/plain": [
       "{'weight': 0.8581885955263642}"
      ]
     },
     "execution_count": 9,
     "metadata": {},
     "output_type": "execute_result"
    }
   ],
   "source": [
    "PFG = nx.from_pandas_edgelist(normalized_edges, source='level_0', target='level_1', edge_attr='weight')\n",
    "PFG['1v25_ANP']['1v1a_KDG']"
   ]
  },
  {
   "cell_type": "markdown",
   "metadata": {},
   "source": [
    "## Add PDB Structure Info"
   ]
  },
  {
   "cell_type": "code",
   "execution_count": 10,
   "metadata": {},
   "outputs": [
    {
     "data": {
      "text/plain": [
       "{'weight': 0.8581885955263642}"
      ]
     },
     "execution_count": 10,
     "metadata": {},
     "output_type": "execute_result"
    }
   ],
   "source": [
    "labels = [i.split('_')[0] for i in list(PFG.nodes)]\n",
    "fixed_names = {k: v for k, v in zip(PFG.nodes, labels)}\n",
    "PFG = nx.relabel_nodes(PFG, fixed_names)\n",
    "PFG['1v25']['1v1a']"
   ]
  },
  {
   "cell_type": "code",
   "execution_count": 11,
   "metadata": {},
   "outputs": [
    {
     "name": "stderr",
     "output_type": "stream",
     "text": [
      "/Users/srensi/Documents/GitHub/scaffold_hops/venv/lib/python3.6/site-packages/ipykernel_launcher.py:4: FutureWarning: \n",
      "Passing list-likes to .loc or [] with any missing label will raise\n",
      "KeyError in the future, you can use .reindex() as an alternative.\n",
      "\n",
      "See the documentation here:\n",
      "https://pandas.pydata.org/pandas-docs/stable/user_guide/indexing.html#deprecate-loc-reindex-listlike\n",
      "  after removing the cwd from sys.path.\n"
     ]
    },
    {
     "data": {
      "text/html": [
       "<div>\n",
       "<style scoped>\n",
       "    .dataframe tbody tr th:only-of-type {\n",
       "        vertical-align: middle;\n",
       "    }\n",
       "\n",
       "    .dataframe tbody tr th {\n",
       "        vertical-align: top;\n",
       "    }\n",
       "\n",
       "    .dataframe thead th {\n",
       "        text-align: right;\n",
       "    }\n",
       "</style>\n",
       "<table border=\"1\" class=\"dataframe\">\n",
       "  <thead>\n",
       "    <tr style=\"text-align: right;\">\n",
       "      <th></th>\n",
       "      <th>HET_CODE</th>\n",
       "      <th>Uniprot_AC</th>\n",
       "      <th>Deposition_Date</th>\n",
       "      <th>Experimental_Method</th>\n",
       "      <th>Chains</th>\n",
       "      <th>ChainPercentageInSite</th>\n",
       "      <th>Species</th>\n",
       "    </tr>\n",
       "    <tr>\n",
       "      <th>PDB_ID</th>\n",
       "      <th></th>\n",
       "      <th></th>\n",
       "      <th></th>\n",
       "      <th></th>\n",
       "      <th></th>\n",
       "      <th></th>\n",
       "      <th></th>\n",
       "    </tr>\n",
       "  </thead>\n",
       "  <tbody>\n",
       "    <tr>\n",
       "      <th>1v1a</th>\n",
       "      <td>KDG</td>\n",
       "      <td>Q53W83</td>\n",
       "      <td>2004-04-12</td>\n",
       "      <td>XRay</td>\n",
       "      <td>A</td>\n",
       "      <td>100.00</td>\n",
       "      <td>Thermus thermophilus</td>\n",
       "    </tr>\n",
       "    <tr>\n",
       "      <th>1v25</th>\n",
       "      <td>ANP</td>\n",
       "      <td>Q5SKN9</td>\n",
       "      <td>2003-10-07</td>\n",
       "      <td>XRay</td>\n",
       "      <td>A</td>\n",
       "      <td>100.00</td>\n",
       "      <td>Thermus thermophilus</td>\n",
       "    </tr>\n",
       "    <tr>\n",
       "      <th>1v3s</th>\n",
       "      <td>ATP</td>\n",
       "      <td>P83820</td>\n",
       "      <td>2003-11-05</td>\n",
       "      <td>XRay</td>\n",
       "      <td>A//B</td>\n",
       "      <td>58.00//42.00</td>\n",
       "      <td>Thermus thermophilus//Thermus thermophilus</td>\n",
       "    </tr>\n",
       "    <tr>\n",
       "      <th>1v59</th>\n",
       "      <td>NAD</td>\n",
       "      <td>P09624</td>\n",
       "      <td>2003-11-21</td>\n",
       "      <td>XRay</td>\n",
       "      <td>A</td>\n",
       "      <td>100.00</td>\n",
       "      <td>Saccharomyces cerevisiae</td>\n",
       "    </tr>\n",
       "    <tr>\n",
       "      <th>1v59</th>\n",
       "      <td>FAD</td>\n",
       "      <td>P09624</td>\n",
       "      <td>2003-11-21</td>\n",
       "      <td>XRay</td>\n",
       "      <td>A//B</td>\n",
       "      <td>5.00//95.00</td>\n",
       "      <td>Saccharomyces cerevisiae//Saccharomyces cerevi...</td>\n",
       "    </tr>\n",
       "    <tr>\n",
       "      <th>...</th>\n",
       "      <td>...</td>\n",
       "      <td>...</td>\n",
       "      <td>...</td>\n",
       "      <td>...</td>\n",
       "      <td>...</td>\n",
       "      <td>...</td>\n",
       "      <td>...</td>\n",
       "    </tr>\n",
       "    <tr>\n",
       "      <th>5yzh</th>\n",
       "      <td>NaN</td>\n",
       "      <td>NaN</td>\n",
       "      <td>NaN</td>\n",
       "      <td>NaN</td>\n",
       "      <td>NaN</td>\n",
       "      <td>NaN</td>\n",
       "      <td>NaN</td>\n",
       "    </tr>\n",
       "    <tr>\n",
       "      <th>6cny</th>\n",
       "      <td>NaN</td>\n",
       "      <td>NaN</td>\n",
       "      <td>NaN</td>\n",
       "      <td>NaN</td>\n",
       "      <td>NaN</td>\n",
       "      <td>NaN</td>\n",
       "      <td>NaN</td>\n",
       "    </tr>\n",
       "    <tr>\n",
       "      <th>6d28</th>\n",
       "      <td>NaN</td>\n",
       "      <td>NaN</td>\n",
       "      <td>NaN</td>\n",
       "      <td>NaN</td>\n",
       "      <td>NaN</td>\n",
       "      <td>NaN</td>\n",
       "      <td>NaN</td>\n",
       "    </tr>\n",
       "    <tr>\n",
       "      <th>6gsw</th>\n",
       "      <td>GPS</td>\n",
       "      <td>P04905</td>\n",
       "      <td>1996-01-26</td>\n",
       "      <td>XRay</td>\n",
       "      <td>A//B</td>\n",
       "      <td>91.00//9.00</td>\n",
       "      <td>Rattus norvegicus//Rattus norvegicus</td>\n",
       "    </tr>\n",
       "    <tr>\n",
       "      <th>8dfr</th>\n",
       "      <td>NDP</td>\n",
       "      <td>P00378</td>\n",
       "      <td>1989-05-30</td>\n",
       "      <td>XRay</td>\n",
       "      <td>A</td>\n",
       "      <td>100.00</td>\n",
       "      <td>Gallus gallus</td>\n",
       "    </tr>\n",
       "  </tbody>\n",
       "</table>\n",
       "<p>3911 rows × 7 columns</p>\n",
       "</div>"
      ],
      "text/plain": [
       "       HET_CODE Uniprot_AC Deposition_Date Experimental_Method Chains  \\\n",
       "PDB_ID                                                                  \n",
       "1v1a        KDG     Q53W83      2004-04-12                XRay      A   \n",
       "1v25        ANP     Q5SKN9      2003-10-07                XRay      A   \n",
       "1v3s        ATP     P83820      2003-11-05                XRay   A//B   \n",
       "1v59        NAD     P09624      2003-11-21                XRay      A   \n",
       "1v59        FAD     P09624      2003-11-21                XRay   A//B   \n",
       "...         ...        ...             ...                 ...    ...   \n",
       "5yzh        NaN        NaN             NaN                 NaN    NaN   \n",
       "6cny        NaN        NaN             NaN                 NaN    NaN   \n",
       "6d28        NaN        NaN             NaN                 NaN    NaN   \n",
       "6gsw        GPS     P04905      1996-01-26                XRay   A//B   \n",
       "8dfr        NDP     P00378      1989-05-30                XRay      A   \n",
       "\n",
       "       ChainPercentageInSite  \\\n",
       "PDB_ID                         \n",
       "1v1a                  100.00   \n",
       "1v25                  100.00   \n",
       "1v3s            58.00//42.00   \n",
       "1v59                  100.00   \n",
       "1v59             5.00//95.00   \n",
       "...                      ...   \n",
       "5yzh                     NaN   \n",
       "6cny                     NaN   \n",
       "6d28                     NaN   \n",
       "6gsw             91.00//9.00   \n",
       "8dfr                  100.00   \n",
       "\n",
       "                                                  Species  \n",
       "PDB_ID                                                     \n",
       "1v1a                                 Thermus thermophilus  \n",
       "1v25                                 Thermus thermophilus  \n",
       "1v3s           Thermus thermophilus//Thermus thermophilus  \n",
       "1v59                             Saccharomyces cerevisiae  \n",
       "1v59    Saccharomyces cerevisiae//Saccharomyces cerevi...  \n",
       "...                                                   ...  \n",
       "5yzh                                                  NaN  \n",
       "6cny                                                  NaN  \n",
       "6d28                                                  NaN  \n",
       "6gsw                 Rattus norvegicus//Rattus norvegicus  \n",
       "8dfr                                        Gallus gallus  \n",
       "\n",
       "[3911 rows x 7 columns]"
      ]
     },
     "execution_count": 11,
     "metadata": {},
     "output_type": "execute_result"
    }
   ],
   "source": [
    "pocket_info = all_info.loc[:, ['PDB_ID', 'HET_CODE', 'Uniprot_AC', 'Deposition_Date', 'Experimental_Method', 'Chains', 'ChainPercentageInSite', 'Species']]\n",
    "pocket_info = pocket_info.set_index('PDB_ID')\n",
    "\n",
    "pocket_info.loc[list(PFG.nodes)]"
   ]
  },
  {
   "cell_type": "code",
   "execution_count": 31,
   "metadata": {},
   "outputs": [
    {
     "data": {
      "text/plain": [
       "{'HET_CODE': 'ANP',\n",
       " 'Uniprot_AC': 'Q5SKN9',\n",
       " 'Deposition_Date': '2003-10-07',\n",
       " 'Experimental_Method': 'XRay',\n",
       " 'Chains': 'A',\n",
       " 'ChainPercentageInSite': '100.00',\n",
       " 'Species': 'Thermus thermophilus',\n",
       " 'Type': 'protein_structure'}"
      ]
     },
     "execution_count": 31,
     "metadata": {},
     "output_type": "execute_result"
    }
   ],
   "source": [
    "pocket_info = all_info.loc[:, ['PDB_ID', 'HET_CODE', 'Uniprot_AC', 'Deposition_Date', 'Experimental_Method', 'Chains', 'ChainPercentageInSite', 'Species']]\n",
    "\n",
    "pocket_info = pocket_info.set_index('PDB_ID')\n",
    "pocket_info = pocket_info.drop_duplicates()\n",
    "\n",
    "pocket_dict = pocket_info.to_dict()\n",
    "for col in pocket_dict:\n",
    "    nx.set_node_attributes(PFG, pocket_dict[col], col)\n",
    "nx.set_node_attributes(PFG, 'protein_structure', name='Type')\n",
    "PFG.nodes['1v25']"
   ]
  },
  {
   "cell_type": "markdown",
   "metadata": {},
   "source": [
    "## Import Ligand Tanimotos"
   ]
  },
  {
   "cell_type": "code",
   "execution_count": 11,
   "metadata": {},
   "outputs": [],
   "source": [
    "ligand_matrix = pd.read_csv('./data/ligand_comparisons.csv', index_col=0)\n",
    "np.fill_diagonal(ligand_matrix.values, np.nan)\n",
    "ligand_edges = ligand_matrix.stack().reset_index()\n",
    "ligand_edges = ligand_edges.rename(columns={'level_0':'ligand_0', 'level_1':'ligand_1', 0:'weight'})"
   ]
  },
  {
   "cell_type": "code",
   "execution_count": 12,
   "metadata": {},
   "outputs": [],
   "source": [
    "Lig = nx.from_pandas_edgelist(ligand_edges, source='ligand_0', target='ligand_1', edge_attr='weight')"
   ]
  },
  {
   "cell_type": "code",
   "execution_count": 13,
   "metadata": {},
   "outputs": [],
   "source": [
    "lig_info = all_info.loc[:, ['HET_CODE' ,'SMILES', 'InChI']]\n",
    "lig_info = lig_info.drop_duplicates()\n",
    "lig_info = lig_info.set_index('HET_CODE')\n",
    "\n",
    "info_dict = lig_info.to_dict()\n",
    "for col in info_dict:\n",
    "    lig_info = nx.set_node_attributes(Lig, info_dict[col], col)\n",
    "    \n",
    "nx.set_node_attributes(Lig, 'chemical', name='Type')\n"
   ]
  },
  {
   "cell_type": "code",
   "execution_count": 14,
   "metadata": {},
   "outputs": [
    {
     "data": {
      "text/plain": [
       "{'SMILES': 'Nc1ncnc2c1ncn2C3OC(COP(=O)([O-])OC(=O)c4ccc(Cl)cc4)C(O)C3O',\n",
       " 'InChI': 'InChI=1S/C17H17ClN5O8P/c18-9-3-1-8(2-4-9)17(26)31-32(27,28)29-5-10-12(24)13(25)16(30-10)23-7-22-11-14(19)20-6-21-15(11)23/h1-4,6-7,10,12-13,16,24-25H,5H2,(H,27,28)(H2,19,20,21)/p-1/t10-,12-,13-,16-/m1/s1',\n",
       " 'Type': 'chemical'}"
      ]
     },
     "execution_count": 14,
     "metadata": {},
     "output_type": "execute_result"
    }
   ],
   "source": [
    "Lig.nodes['00A']"
   ]
  },
  {
   "cell_type": "markdown",
   "metadata": {},
   "source": [
    "## Import Sequences"
   ]
  },
  {
   "cell_type": "code",
   "execution_count": 15,
   "metadata": {},
   "outputs": [],
   "source": [
    "seq_info = all_info.loc[:, ['PDB_ID','Uniprot_Name', 'Uniprot_AC', 'Uniprot_ID']]\n",
    "seq_info = seq_info.drop_duplicates()\n",
    "seq_info = seq_info.set_index('Uniprot_ID')\n",
    "seq_dict = seq_info.to_dict()"
   ]
  },
  {
   "cell_type": "code",
   "execution_count": 16,
   "metadata": {},
   "outputs": [
    {
     "name": "stderr",
     "output_type": "stream",
     "text": [
      "/Users/srensi/Documents/GitHub/scaffold_hops/venv/lib/python3.6/site-packages/pandas/core/indexing.py:1418: FutureWarning: \n",
      "Passing list-likes to .loc or [] with any missing label will raise\n",
      "KeyError in the future, you can use .reindex() as an alternative.\n",
      "\n",
      "See the documentation here:\n",
      "https://pandas.pydata.org/pandas-docs/stable/user_guide/indexing.html#deprecate-loc-reindex-listlike\n",
      "  return self._getitem_tuple(key)\n"
     ]
    }
   ],
   "source": [
    "seq_matrix = pd.read_csv('./data/seq_align_matrix.csv', index_col=0, header=0)\n",
    "seq_matrix = seq_matrix.loc[seq_info.index, seq_info.index]\n",
    "del seq_matrix.index.name\n",
    "seq_matrix = seq_matrix.loc[:,~seq_matrix.columns.duplicated()]\n",
    "seq_matrix = seq_matrix.loc[~seq_matrix.index.duplicated(),:]\n",
    "seq_matrix = seq_matrix/100\n",
    "np.fill_diagonal(seq_matrix.values, np.nan)\n",
    "seq_edges = seq_matrix.stack().reset_index()\n",
    "seq_edges = seq_edges.rename(columns={'level_0':'ligand_0', 'level_1':'ligand_1', 0:'weight'})"
   ]
  },
  {
   "cell_type": "code",
   "execution_count": 17,
   "metadata": {},
   "outputs": [],
   "source": [
    "Seq = nx.from_pandas_edgelist(seq_edges, source='ligand_0', target='ligand_1', edge_attr='weight')"
   ]
  },
  {
   "cell_type": "code",
   "execution_count": 18,
   "metadata": {},
   "outputs": [],
   "source": [
    "for col in seq_dict:\n",
    "    nx.set_node_attributes(Seq, seq_dict[col], col)\n",
    "\n",
    "nx.set_node_attributes(Seq, 'protein', name='Type')"
   ]
  },
  {
   "cell_type": "code",
   "execution_count": 19,
   "metadata": {},
   "outputs": [
    {
     "data": {
      "text/plain": [
       "{'PDB_ID': '1on3',\n",
       " 'Uniprot_Name': 'Methylmalonyl-CoA carboxyltransferase 12S subunit',\n",
       " 'Uniprot_AC': 'Q8GBW6',\n",
       " 'Type': 'protein'}"
      ]
     },
     "execution_count": 19,
     "metadata": {},
     "output_type": "execute_result"
    }
   ],
   "source": [
    "Seq.nodes['12S_PROFR']"
   ]
  },
  {
   "cell_type": "code",
   "execution_count": 20,
   "metadata": {},
   "outputs": [],
   "source": [
    "labels = [Seq.nodes[node]['Uniprot_AC'] for node in Seq.nodes]\n",
    "fixed_names = {k: v for k, v in zip(Seq.nodes, labels)}\n",
    "Seq = nx.relabel_nodes(Seq, fixed_names)"
   ]
  },
  {
   "cell_type": "code",
   "execution_count": 21,
   "metadata": {},
   "outputs": [
    {
     "data": {
      "text/plain": [
       "{'PDB_ID': '1on3',\n",
       " 'Uniprot_Name': 'Methylmalonyl-CoA carboxyltransferase 12S subunit',\n",
       " 'Uniprot_AC': 'Q8GBW6',\n",
       " 'Type': 'protein'}"
      ]
     },
     "execution_count": 21,
     "metadata": {},
     "output_type": "execute_result"
    }
   ],
   "source": [
    "Seq.nodes['Q8GBW6']"
   ]
  },
  {
   "cell_type": "markdown",
   "metadata": {},
   "source": [
    "### Connect Ligands to Pockets"
   ]
  },
  {
   "cell_type": "code",
   "execution_count": 37,
   "metadata": {},
   "outputs": [
    {
     "data": {
      "text/plain": [
       "152"
      ]
     },
     "execution_count": 37,
     "metadata": {},
     "output_type": "execute_result"
    }
   ],
   "source": [
    "G = PFG.copy()\n",
    "count = 0\n",
    "names = []\n",
    "for node in PFG.nodes:\n",
    "    try:\n",
    "        het_code = PFG.nodes[node]['HET_CODE']\n",
    "        G.add_node(het_code, **Lig.nodes[het_code])\n",
    "        G.add_edge(het_code, node, weight=0)\n",
    "    except KeyError:\n",
    "        count += 1\n",
    "        names.append(node)\n",
    "count"
   ]
  },
  {
   "cell_type": "code",
   "execution_count": 42,
   "metadata": {},
   "outputs": [
    {
     "data": {
      "text/plain": [
       "{'Type': 'protein_structure'}"
      ]
     },
     "execution_count": 42,
     "metadata": {},
     "output_type": "execute_result"
    }
   ],
   "source": [
    "PFG.nodes['2huv']"
   ]
  },
  {
   "cell_type": "code",
   "execution_count": 39,
   "metadata": {},
   "outputs": [
    {
     "data": {
      "text/plain": [
       "['1x31',\n",
       " '1xyy',\n",
       " '1y7l',\n",
       " '2aqi',\n",
       " '2b56',\n",
       " '2b9j',\n",
       " '2dsh',\n",
       " '2e8r',\n",
       " '2en5',\n",
       " '2fr1',\n",
       " '2fzn',\n",
       " '2huv',\n",
       " '2itv',\n",
       " '2ixb',\n",
       " '2jd1',\n",
       " '2o07',\n",
       " '2olr',\n",
       " '2p2m',\n",
       " '2p5f',\n",
       " '2p5y',\n",
       " '2p6k',\n",
       " '2pak',\n",
       " '2pb4',\n",
       " '2pb6',\n",
       " '2pch',\n",
       " '2pdb',\n",
       " '2q0l',\n",
       " '2q7k',\n",
       " '2qbn',\n",
       " '2qo5',\n",
       " '2vpz',\n",
       " '2w14',\n",
       " '2w9h',\n",
       " '2x8h',\n",
       " '2xvi',\n",
       " '2yem',\n",
       " '2yg6',\n",
       " '2ylz',\n",
       " '2yqs',\n",
       " '2yyl',\n",
       " '2zvc',\n",
       " '3bw3',\n",
       " '3c0i',\n",
       " '3cif',\n",
       " '3cls',\n",
       " '3d78',\n",
       " '3dag',\n",
       " '3dk9',\n",
       " '3dl0',\n",
       " '3dt4',\n",
       " '3dva',\n",
       " '3f47',\n",
       " '3fce',\n",
       " '3fwg',\n",
       " '3g4i',\n",
       " '3g5s',\n",
       " '3g8d',\n",
       " '3gyj',\n",
       " '3iiu',\n",
       " '3kr6',\n",
       " '3m09',\n",
       " '3m6r',\n",
       " '3m6w',\n",
       " '3mn9',\n",
       " '3mnp',\n",
       " '3o8t',\n",
       " '3oiw',\n",
       " '3p8j',\n",
       " '3px3',\n",
       " '3qft',\n",
       " '3s1d',\n",
       " '3to6',\n",
       " '3uox',\n",
       " '3vt7',\n",
       " '3vzd',\n",
       " '3w8e',\n",
       " '3wd4',\n",
       " '3wo1',\n",
       " '3zuy',\n",
       " '3zzh',\n",
       " '4awt',\n",
       " '4c04',\n",
       " '4c72',\n",
       " '4ca6',\n",
       " '4ckj',\n",
       " '4d04',\n",
       " '4dpu',\n",
       " '4e2z',\n",
       " '4eeu',\n",
       " '4eu9',\n",
       " '4eud',\n",
       " '4f1o',\n",
       " '4fl2',\n",
       " '4fl3',\n",
       " '4fvr',\n",
       " '4gm4',\n",
       " '4h3q',\n",
       " '4iai',\n",
       " '4j7h',\n",
       " '4j99',\n",
       " '4jl5',\n",
       " '4ju9',\n",
       " '4k9p',\n",
       " '4kqr',\n",
       " '4l3l',\n",
       " '4l4e',\n",
       " '4m2b',\n",
       " '4m2v',\n",
       " '4mfq',\n",
       " '4mkh',\n",
       " '4mv4',\n",
       " '4o4f',\n",
       " '4oae',\n",
       " '4oha',\n",
       " '4pab',\n",
       " '4prx',\n",
       " '4q03',\n",
       " '4q73',\n",
       " '4qa2',\n",
       " '4qbi',\n",
       " '4rnw',\n",
       " '4rri',\n",
       " '4rrk',\n",
       " '4rrm',\n",
       " '4s34',\n",
       " '4u8j',\n",
       " '4u8p',\n",
       " '4udr',\n",
       " '4utm',\n",
       " '4xd1',\n",
       " '4xqc',\n",
       " '4y6u',\n",
       " '4ype',\n",
       " '4z44',\n",
       " '5aac',\n",
       " '5c40',\n",
       " '5d9j',\n",
       " '5drd',\n",
       " '5e8x',\n",
       " '5gtl',\n",
       " '5h5o',\n",
       " '5je2',\n",
       " '5je3',\n",
       " '5jjs',\n",
       " '5kf9',\n",
       " '5l8l',\n",
       " '5lpb',\n",
       " '5mf5',\n",
       " '5omo',\n",
       " '5yzh',\n",
       " '6cny',\n",
       " '6d28']"
      ]
     },
     "execution_count": 39,
     "metadata": {},
     "output_type": "execute_result"
    }
   ],
   "source": [
    "names"
   ]
  },
  {
   "cell_type": "code",
   "execution_count": null,
   "metadata": {},
   "outputs": [],
   "source": []
  }
 ],
 "metadata": {
  "kernelspec": {
   "display_name": "Python 3",
   "language": "python",
   "name": "python3"
  },
  "language_info": {
   "codemirror_mode": {
    "name": "ipython",
    "version": 3
   },
   "file_extension": ".py",
   "mimetype": "text/x-python",
   "name": "python",
   "nbconvert_exporter": "python",
   "pygments_lexer": "ipython3",
   "version": "3.6.5"
  }
 },
 "nbformat": 4,
 "nbformat_minor": 2
}
