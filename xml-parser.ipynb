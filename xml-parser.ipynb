{
 "cells": [
  {
   "cell_type": "code",
   "execution_count": 30,
   "metadata": {},
   "outputs": [],
   "source": [
    "from lxml import etree\n",
    "import requests\n",
    "\n",
    "response = requests.get('https://www.rcsb.org/pdb/rest/describeMol?structureId=2O4J')\n",
    "tree = etree.fromstring(response.content)"
   ]
  },
  {
   "cell_type": "code",
   "execution_count": 33,
   "metadata": {},
   "outputs": [
    {
     "name": "stdout",
     "output_type": "stream",
     "text": [
      "<Element structureId at 0x10f9a4f88>\n",
      "<Element polymer at 0x10fe75188>\n",
      "<Element chain at 0x10e86acc8>\n",
      "<Element Taxonomy at 0x10fe83208>\n",
      "<Element synonym at 0x10fe75188>\n",
      "<Element macroMolecule at 0x10fe83b48>\n",
      "<Element accession at 0x10e86acc8>\n",
      "<Element polymerDescription at 0x10fe83208>\n",
      "<Element fragment at 0x10fe83b48>\n",
      "<Element mutation at 0x10e86acc8>\n",
      "<Element polymer at 0x10fe83208>\n",
      "<Element chain at 0x10fe83b48>\n",
      "<Element Taxonomy at 0x10e86acc8>\n",
      "<Element synonym at 0x10fe75188>\n",
      "<Element macroMolecule at 0x10fe83208>\n",
      "<Element accession at 0x10e86acc8>\n",
      "<Element polymerDescription at 0x10fe83b48>\n",
      "<Element fragment at 0x10fe83208>\n"
     ]
    }
   ],
   "source": [
    "from pprint import pprint\n",
    "\n",
    "for e in tree[0].iter():\n",
    "    pprint(e)\n",
    "# pprint(etree.tostring(tree))"
   ]
  },
  {
   "cell_type": "code",
   "execution_count": null,
   "metadata": {},
   "outputs": [],
   "source": [
    "import xmltodict, json\n",
    "\n",
    "response = requests.get('https://www.rcsb.org/pdb/rest/describeMol?structureId=4hhb')\n"
   ]
  }
 ],
 "metadata": {
  "kernelspec": {
   "display_name": "Python 3",
   "language": "python",
   "name": "python3"
  },
  "language_info": {
   "codemirror_mode": {
    "name": "ipython",
    "version": 3
   },
   "file_extension": ".py",
   "mimetype": "text/x-python",
   "name": "python",
   "nbconvert_exporter": "python",
   "pygments_lexer": "ipython3",
   "version": "3.6.5"
  }
 },
 "nbformat": 4,
 "nbformat_minor": 2
}
