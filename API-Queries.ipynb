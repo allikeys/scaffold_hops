{
 "cells": [
  {
   "cell_type": "markdown",
   "metadata": {},
   "source": [
    "# Imports"
   ]
  },
  {
   "cell_type": "markdown",
   "metadata": {},
   "source": [
    "The **services module** contains functions for accessing third party bioemdical data services."
   ]
  },
  {
   "cell_type": "code",
   "execution_count": null,
   "metadata": {},
   "outputs": [],
   "source": [
    "from services.pdb import file, molecule, ligand, pfam, go_terms\n",
    "from services.uniprot import pdb2uniprot"
   ]
  },
  {
   "cell_type": "markdown",
   "metadata": {},
   "source": [
    "##### PDB\n",
    "For PDB we have functions for quering information about (1) PDB files, (2) Protein Molecules, (3) Ligands, (4) PFam Annotations and (5) GO annotations.  \n",
    "\n",
    "##### Uniprot\n",
    "For Uniprot we query a service that maps pdb IDs to uniprot IDs. "
   ]
  },
  {
   "cell_type": "markdown",
   "metadata": {},
   "source": [
    "# Pocket Feature KG Set Up"
   ]
  },
  {
   "cell_type": "code",
   "execution_count": 6,
   "metadata": {},
   "outputs": [],
   "source": [
    "import pandas as pd\n",
    "import networkx as nx\n",
    "import numpy as np"
   ]
  },
  {
   "cell_type": "markdown",
   "metadata": {},
   "source": [
    "##### Step 1. Convert pocket feature scores to \"cosine similarities\"\n",
    "\n",
    "Given a matrix $X \\in \\mathbb R ^n$ with rows $x_i$, we compute the cosine similarity between two rows as:\n",
    "\n",
    "$$ \\frac{x_i^T x_j}{\\lVert x_i \\rVert \\lVert x_j \\rVert }$$\n",
    "\n",
    "Given symmetric positive semidefinite matrix $A = X X^T$, we can compute cosine similarities using hte formula:\n",
    "\n",
    "$$\\frac{a_{ij}}{\\sqrt{a_{ii}}\\sqrt{a_{jj}}} = \\frac{x_i^T x_j}{\\lVert x_i \\rVert \\lVert x_j \\rVert }$$ "
   ]
  },
  {
   "cell_type": "code",
   "execution_count": null,
   "metadata": {},
   "outputs": [],
   "source": [
    "# Read in pocket feature similarities and convert to an adjacency matrix\n",
    "pf = pd.read_csv('./data/pocket_feature_scores.csv', header=None, names=['pocket_0', 'pocket_1', 'weight'])\n",
    "PFG = nx.from_pandas_edgelist(pf, source='pocket_0', target='pocket_1', edge_attr='weight')\n",
    "pf_matrix = nx.to_pandas_adjacency(PFG, dtype=np.float64)\n",
    "\n",
    "# Compute cosine similarities from pocket feature score matrix\n",
    "diagonal = np.sqrt(np.diag(-1*pf_matrix))\n",
    "denominator = np.outer(diagonal, diagonal)\n",
    "normalized = (-1*pf_matrix)/denominator"
   ]
  },
  {
   "cell_type": "markdown",
   "metadata": {},
   "source": [
    "##### Step 2. Filter cosine similarities\n",
    "\n",
    "In order to reduce memory and computational costs, we filter out cosine slimilarity values that fall outside of a range of interest.  For example, we may wish to exclude low similarity values.  Likewise, we do not wish to have self referencing edges in our graph, so we also filter out diagonal values in the adjacency matrix."
   ]
  },
  {
   "cell_type": "code",
   "execution_count": 23,
   "metadata": {},
   "outputs": [
    {
     "name": "stdout",
     "output_type": "stream",
     "text": [
      "(3384, 3)\n"
     ]
    }
   ],
   "source": [
    "# Specify desired range\n",
    "score_range = [0.7, 1.0]\n",
    "lower_limit = score_range[0]\n",
    "upper_limit = score_range[1]\n",
    "\n",
    "# Set matrix entries out of specificed range to NaN\n",
    "if lower_limit > 0:\n",
    "    normalized[normalized < lower_limit] = np.nan\n",
    "if upper_limit < 1:\n",
    "    normalized[normalized > upper_limit] = np.nan\n",
    "\n",
    "# Set off Diagonal to NaN\n",
    "np.fill_diagonal(normalized.values, np.nan)"
   ]
  },
  {
   "cell_type": "markdown",
   "metadata": {},
   "source": [
    "##### Step 3. Initialize knowledge graph using similarities\n",
    "\n",
    "We use the flitered adjacency matrix to initialize a graph where nodes are co-crystal structures and edges are pocket feature \"cosine\" similarities."
   ]
  },
  {
   "cell_type": "code",
   "execution_count": null,
   "metadata": {},
   "outputs": [],
   "source": [
    "normalized_edges = normalized.stack().reset_index()\n",
    "normalized_edges = normalized_edges.rename(columns={0:'weight'})\n",
    "PFG = nx.from_pandas_edgelist(normalized_edges, source='level_0', target='level_1', edge_attr='weight')"
   ]
  },
  {
   "cell_type": "markdown",
   "metadata": {},
   "source": [
    "##### Step 4. Initialize Ligand Nodes\n",
    "\n",
    "We will need a figure showing data model used for our graph"
   ]
  },
  {
   "cell_type": "code",
   "execution_count": 24,
   "metadata": {},
   "outputs": [],
   "source": [
    "# Generate list of tuples (PDB_ID, Ligand_ID)\n",
    "structures_to_ligands = [i.split('_') for i in list(PFG.nodes)] \n",
    "\n",
    "# Unzip tuples into two separate lists\n",
    "labels, ligands = zip( *structures_to_ligands )\n",
    "\n",
    "# Create a dictionary for updating pdb sretucture node IDs\n",
    "fixed_names = {k: v for k, v in zip(PFG.nodes, labels)}\n",
    "PFG = nx.relabel_nodes(PFG, fixed_names)\n",
    "\n",
    "# Use list of tuples as an edge list to update the graph (i.e. add ligand nodes)\n",
    "PFG.add_edges_from(structures_to_ligands, weight=0)"
   ]
  },
  {
   "cell_type": "markdown",
   "metadata": {},
   "source": [
    "# Compute Scaffold Hop Scores\n",
    "\n",
    "We define a scaffold hop score for a pair of ligands as:\n",
    "\n",
    "$$max\\left(\\frac{F(m_1, m_2)}{T(m_1,m_2)}\\right)$$\n",
    "\n",
    "Where $m_i$ denotes a ligand in our dataset, $F$ is the pocket feature cosine similarity between bound protein structures, and $T$ is the tanomoto coefficient between chemical fingerprints.  Ligands may be bound in multiple co-crystal structures, and for any pair of ligands there may be a range of scaffold hop scores.  We take the maximum value.  In general, the high scaffold hop scores corrspond to ligands with dissimilar strucutres, that bind slimilar protein pockets.\n",
    "\n",
    "\n",
    "Protocol Steps\n",
    "1. Iterate through unique ligand pairs\n",
    "2. Find shortest path between ligands (using cosine distance)\n",
    "3. Compute scaffold hop score\n",
    "4. Filter out cofactors, low scaffold hop scores\n",
    "\n",
    "Finally sort, by scaffold hop score."
   ]
  },
  {
   "cell_type": "code",
   "execution_count": 26,
   "metadata": {},
   "outputs": [],
   "source": [
    "# Import ligand tanomoto matrix\n",
    "ligand_matrix = pd.read_csv('./data/ligand_comparisons.csv', index_col=0)"
   ]
  },
  {
   "cell_type": "code",
   "execution_count": 27,
   "metadata": {
    "scrolled": true
   },
   "outputs": [
    {
     "data": {
      "text/plain": [
       "[[3.7090795180592058, ['TOL', '1zua', '2pdb', '3s3g', 'TLT']],\n",
       " [3.5680618401206634, ['E3O', '2j7y', '1x7r', 'GEN']],\n",
       " [3.3935067142614326, ['TOL', '1zua', '4gca', '2X9']],\n",
       " [3.35275635275755, ['ASC', '1xid', '1xli', 'GLT']],\n",
       " [3.2920030757401, ['7AP', '2g6j', '4fvy', 'H4B']],\n",
       " [3.2362680667388033, ['WST', '2pog', '1x7r', 'GEN']],\n",
       " [3.097496877016808, ['0L8', '4dma', '2pog', 'WST']],\n",
       " [3.0883829430454544, ['WFG', '3wfg', '2aax', 'PDN']],\n",
       " [3.0880041114940453, ['TOL', '1zua', '2pdb', 'ZST']],\n",
       " [3.0805662491817554, ['SUZ', '4wev', '3s3g', 'TLT']],\n",
       " [3.032219694308812, ['RME', '3rme', '2ybu', 'CX9']],\n",
       " [3.019298199277709, ['TOL', '1zua', '4wev', 'SUZ']],\n",
       " [3.000240500240501, ['0S3', '4eo8', '2hai', 'PFI']],\n",
       " [2.9638358969824403, ['ZST', '2pdb', '3s3g', 'TLT']],\n",
       " [2.9557690672497885, ['P44', '2pvj', '4dgm', 'AGI']],\n",
       " [2.92887325820739, ['555', '2nv7', '2j7y', 'E3O']],\n",
       " [2.925113299937984, ['73B', '4bjx', '3aqa', 'BYH']],\n",
       " [2.8463757164142387, ['555', '2nv7', '3oll', 'EST']],\n",
       " [2.8306215993089534, ['UQ1', '1zoy', '2fbw', 'CBE']],\n",
       " [2.75280492218603, ['4UP', '4fub', '2viv', 'VG2']],\n",
       " [2.737970045193319, ['NAP', '3m09', '3i8a', 'N22']],\n",
       " [2.7123947051744883, ['TES', '2q7k', '4oha', 'HFT']],\n",
       " [2.6996715840550065, ['XTK', '5a8e', '4bvn', 'P32']],\n",
       " [2.6407374098086454, ['VD4', '2o4j', '4fhh', '0U3']],\n",
       " [2.6387542247319686, ['0L8', '4dma', '1x7r', 'GEN']],\n",
       " [2.6104491639048732, ['2X9', '4gca', '3s3g', 'TLT']],\n",
       " [2.5978510776298727, ['TOL', '1zua', '2agt', 'FID']],\n",
       " [2.5659718270797067, ['FID', '2agt', '2pdb', '3s3g', 'TLT']],\n",
       " [2.5569690147866684, ['555', '2nv7', '2fsz', 'OHT']],\n",
       " [2.4799823573421262, ['VR1', '2o5d', '2hai', 'PFI']],\n",
       " [2.4745602944943137, ['DEX', '4uda', '3wfg', 'WFG']],\n",
       " [2.4662087401190873, ['LGC', '2e40', '2wbg', 'LGS']],\n",
       " [2.4567480479615265, ['M77', '2f2u', '3v8s', '0HD']],\n",
       " [2.450331538189113, ['BYH', '3aqa', '4flp', 'JQ1']],\n",
       " [2.4478889753859954, ['L81', '2xjj', '1yc1', '4BC']],\n",
       " [2.4326331121661298, ['0L8', '4dma', '4pxm', '2j7y', 'E3O']],\n",
       " [2.4171380044287654, ['MPZ', '1y57', '2bdf', '24A']],\n",
       " [2.378096810133845, ['1GH', '4alg', '3aqa', 'BYH']],\n",
       " [2.372035278998948, ['EST', '4pxm', '1x7r', 'GEN']],\n",
       " [2.3708787053841505, ['VDX', '3vt3', '4fhh', '0U3']],\n",
       " [2.3687175623937318, ['NXZ', '3qbj', '2aj8', 'SC3']],\n",
       " [2.3662375110311586, ['1K0', '4j1p', '4uyg', '73B']],\n",
       " [2.346394407652685, ['FFA', '2ipj', '4jtr', 'IBP']],\n",
       " [2.346394407652685, ['FFA', '2ipj', '4jtr', 'IZP']],\n",
       " [2.341141838845616, ['TK3', '3vtc', '4fhh', '0U3']],\n",
       " [2.3397435897435903, ['AZM', '2h4n', '3kig', 'DA4']],\n",
       " [2.3234454660437684, ['MPZ', '1y57', '3ac1', 'KZI']],\n",
       " [2.291760956587583, ['OLP', '2cmw', '2izr', 'BRK']],\n",
       " [2.277607926160597, ['1K0', '4j1p', '2yem', 'WSH']],\n",
       " [2.2686404399821454, ['706', '3efl', '3vhe', '42Q']],\n",
       " [2.258903170772448, ['ZST', '2pdb', '4wev', 'SUZ']],\n",
       " [2.2522893369850863, ['MI1', '3lxk', '4iva', '1J5']],\n",
       " [2.2489155559868106, ['706', '3efl', '2oh4', 'GIG']],\n",
       " [2.226550007106589, ['THD', '3ahe', '3ahj', 'TPP']],\n",
       " [2.2185155942370947, ['WFG', '3wfg', '2abi', '1CA']],\n",
       " [2.2162100456621006, ['HK5', '4fsu', '1zys', '199']],\n",
       " [2.2062537377997935, ['BB2', '2os1', '2aie', 'SB9']],\n",
       " [2.1988744320986733, ['EST', '2d06', '3u3o', '3QV']],\n",
       " [2.1987236824110896, ['0L8', '4dma', '4pxm', 'EST']],\n",
       " [2.197439387065881, ['WSH', '2yem', '4uyg', '73B']],\n",
       " [2.1890088222550887, ['RAJ', '3be2', '4ase', 'AV9']],\n",
       " [2.188940616696058, ['2X9', '4gca', '4wev', 'SUZ']],\n",
       " [2.1834053129355424, ['7DE', '1y2k', '3d3p', '20A']],\n",
       " [2.169116566235516, ['MPZ', '1y57', '3dqw', 'AGS']],\n",
       " [2.12878787878788, ['S25', '3tki', '4fsu', 'HK5']],\n",
       " [2.1169238776463852, ['O19', '4bbf', '2b7a', '4iva', '1J5']],\n",
       " [2.1157252050708437, ['CHJ', '4ige', '3am4', 'FT1']],\n",
       " [2.115479226460949, ['4BC', '1yc1', '2cgf', 'P2N']],\n",
       " [2.105517103250701, ['ATP', '5csh', '3ofm', '4dgm', 'AGI']],\n",
       " [2.1038836591855254, ['0KF', '3vo3', '4ase', 'AV9']],\n",
       " [2.0786692499198636, ['IXH', '3bea', '2i1m', '5CN']],\n",
       " [2.0693587686324726, ['AV9', '4ase', '3vhe', '42Q']],\n",
       " [2.0626652455620884, ['724', '3l0v', '2i47', 'KGY']],\n",
       " [2.0581519195141595, ['RAJ', '3be2', '2oh4', 'GIG']],\n",
       " [2.0548822315245308, ['DHT', '4k7a', '4oha', 'HFT']],\n",
       " [2.049624409368394, ['VX6', '2f4j', '2hzi', 'JIN']],\n",
       " [2.04893753084343, ['M1S', '2iwx', '2xjj', 'L81']],\n",
       " [2.0488827480769904, ['0S3', '4eo8', '3frz', 'AG0']],\n",
       " [2.0429247180782375, ['L81', '2xjj', '2cgf', 'P2N']],\n",
       " [2.0418494847187985, ['L81', '2xjj', '2wer', 'RDC']],\n",
       " [2.0407400905561044, ['7DE', '1y2k', '4kp6', '1S1']],\n",
       " [2.0393329950381256, ['YEX', '2yex', '4fsu', 'HK5']],\n",
       " [2.0382190701339633, ['S25', '3tki', '1zys', '199']],\n",
       " [2.0278803667342036, ['TES', '2q7k', '4k7a', '1z95', '198']],\n",
       " [2.02687443541102, ['D71', '3g4i', '1y2k', '7DE']],\n",
       " [2.0221754951517714, ['DHT', '4k7a', '1z95', '198']],\n",
       " [2.0206706336262577, ['0KF', '3vo3', '2xir', '00J']],\n",
       " [2.020449002223372, ['M1S', '2iwx', '2cgf', '1yc1', '4BC']],\n",
       " [2.0136478255510117, ['555', '2nv7', '1x7r', 'GEN']],\n",
       " [2.0068460275720525, ['D71', '3g4i', '3d3p', '20A']],\n",
       " [2.0054327979794437, ['FID', '2agt', '4gca', '2X9']],\n",
       " [1.9900464960362538, ['1S1', '4kp6', '3d3p', '20A']],\n",
       " [1.9885230212760434, ['VGH', '5aac', '4foc', '0UU']],\n",
       " [1.983094662443678, ['2EC', '2yee', '2xjj', 'L81']],\n",
       " [1.9760510789827044, ['11W', '4h8i', '2xxv', 'KAI']],\n",
       " [1.9725848403594042, ['24A', '2bdf', '3ac1', 'KZI']],\n",
       " [1.9689595752416935, ['0VN', '4g17', '2izr', 'BRK']],\n",
       " [1.9678214267059169, ['EST', '3oll', '2fsz', 'OHT']],\n",
       " [1.9609911811695115, ['VGG', '4lgg', '1yol', 'S03']],\n",
       " [1.9601096287643915, ['MPZ', '1y57', '2h8h', 'H8H']],\n",
       " [1.9568473636421997, ['MTM', '3eei', '4wkb', 'TDI']],\n",
       " [1.9513528246744312, ['7X4', '2vwx', '4aw5', '30K']],\n",
       " [1.9509556037225693, ['7X4', '2vwx', '2y6o', '1N1']],\n",
       " [1.9498663167574128, ['0S3', '4eo8', '2o5d', 'VR1']],\n",
       " [1.9445892210125015, ['1GH', '4alg', '4bjx', '73B']],\n",
       " [1.9339637584686267, ['D71', '3g4i', '4kp6', '1S1']],\n",
       " [1.9329106635400837, ['ZST', '2pdb', '2agt', 'FID']],\n",
       " [1.909746833427773, ['0KF', '3vo3', '2oh4', 'GIG']],\n",
       " [1.9083977972411494, ['HTL', '3ahi', '3ahe', 'THD']],\n",
       " [1.8908316089104746, ['2EC', '2yee', '2qfo', 'A13']],\n",
       " [1.8849673202614379, ['AV9', '4ase', '2oh4', 'GIG']],\n",
       " [1.869064754188401, ['ADP', '3lct', '5aac', 'VGH']],\n",
       " [1.8658854166666667, ['FNR', '4utm', '3l5l', 'FMN']],\n",
       " [1.863806344262267, ['MI1', '3lxk', '2b7a', 'IZA']],\n",
       " [1.8611449866165002, ['H8H', '2h8h', '4k11', '0J9']],\n",
       " [1.8609754912241028, ['3TN', '2p1t', '1xiu', '9CR']],\n",
       " [1.8568930001691955, ['7X4', '2vwx', '2yn8', 'STU']],\n",
       " [1.848969143489691, ['UNB', '2bdy', '2uuj', '896']],\n",
       " [1.847742630390562, ['OLP', '2cmw', '4g17', '0VN']],\n",
       " [1.8438023450586272, ['00J', '2xir', '3vhe', '42Q']],\n",
       " [1.8417766676060672, ['FID', '2agt', '4wev', 'SUZ']],\n",
       " [1.8405739433079384, ['0KF', '3vo3', '3vhe', '42Q']],\n",
       " [1.8272420404236445, ['L81', '2xjj', '2qfo', 'A13']],\n",
       " [1.8175224453114194, ['AS4', '2aa2', '3wfg', 'WFG']],\n",
       " [1.816657261787062, ['T27', '4g1q', '2ops', 'HBQ']],\n",
       " [1.8081936158036018, ['73B', '4bjx', '4flp', 'JQ1']],\n",
       " [1.8029637205427222, ['ZST', '2pdb', '4gca', '2X9']],\n",
       " [1.779217531253743, ['BI1', '2bik', '4k1b', '1OC']],\n",
       " [1.7752674840427978, ['BI1', '2bik', '3a99', 'ANP']],\n",
       " [1.7746803977272727, ['DEX', '4uda', '2abi', '1CA']],\n",
       " [1.772266048330034, ['IZA', '2b7a', '4bbf', 'O19']],\n",
       " [1.7679766776239527, ['MTX', '5hi6', '4x5f', 'NAP']],\n",
       " [1.7561426620513512, ['AG0', '3frz', '2o5d', 'VR1']],\n",
       " [1.7466636268227622, ['A13', '2qfo', '1yc1', '4BC']],\n",
       " [1.74434387497453, ['MGT', '4eqk', '4cb7', '41G']],\n",
       " [1.7378897744989201, ['AV9', '4ase', '3vhe', '3efl', '706']],\n",
       " [1.7228707306528315, ['IZA', '2b7a', '4iva', '1J5']],\n",
       " [1.7193660809139475, ['RAJ', '3be2', '3vhe', '42Q']],\n",
       " [1.7107097194489362, ['EMH', '3aox', '4foc', '0UU']],\n",
       " [1.689785156196483, ['MDB', '3u7k', '2aie', 'SB9']],\n",
       " [1.6754823321042314, ['E3O', '2j7y', '3oll', '2fsz', 'OHT']],\n",
       " [1.6604202715967311, ['CAU', '2rh1', '4bvn', 'P32']],\n",
       " [1.655082164156691, ['R78', '2rku', '2owb', '626']],\n",
       " [1.6493373764205657, ['RIT', '3q70', '1zap', 'A70']],\n",
       " [1.6417791516610376, ['AG0', '3frz', '2hai', 'PFI']],\n",
       " [1.6298775889451669, ['EMH', '3aox', '5aac', 'VGH']],\n",
       " [1.6293733459666364, ['TOP', '2w9s', '3m09', 'NAP']],\n",
       " [1.627576869764679, ['HPZ', '2puj', '2puh', 'HPK']],\n",
       " [1.6126725105110584, ['PH7', '1yvf', '2fvc', '888']],\n",
       " [1.610020164401875, ['C1E', '2rht', '2puh', 'HPK']],\n",
       " [1.604939314255755, ['H8H', '2h8h', '2bdf', '24A']],\n",
       " [1.5951919768659906, ['ANP', '3a99', '4k1b', '1OC']],\n",
       " [1.5805199180359668, ['AV9', '4ase', '2xir', '00J']],\n",
       " [1.5780769808682182, ['DTB', '4dne', '3ry2', 'BTN']],\n",
       " [1.5651860009797047, ['1K0', '4j1p', '4uyg', '4flp', 'JQ1']],\n",
       " [1.5626560984825728, ['S25', '3tki', '4fsu', '2yex', 'YEX']],\n",
       " [1.562036832269127, ['PDN', '2aax', '1y9r', '1CA']],\n",
       " [1.5452545951461116, ['4BC', '1yc1', '2xjj', '2wer', 'RDC']],\n",
       " [1.543570959238822, ['ADP', '2w4j', '3bhy', '7CP']],\n",
       " [1.5413808262695452, ['NN2', '2giq', '1yvf', 'PH7']],\n",
       " [1.5409476988087556, ['TOP', '2w9s', '3i8a', 'N22']],\n",
       " [1.539737584675395, ['7CP', '3bhy', '3gu8', '3GU']],\n",
       " [1.5347826086956529, ['DEX', '4uda', '2aax', 'PDN']],\n",
       " [1.5317499306813431, ['ATP', '5ack', '2xck', 'MH4']],\n",
       " [1.5169721140792494, ['30K', '4aw5', '2yn8', 'STU']],\n",
       " [1.4999513595019214, ['DEX', '4uda', '2aa2', 'AS4']],\n",
       " [1.490396795018729, ['CMP', '2our', '4lm4', 'JPZ']],\n",
       " [1.4823822670447595, ['NVP', '2hnd', '4g1q', 'T27']],\n",
       " [1.479057345700292, ['PH7', '1yvf', '3tyv', 'HI3']],\n",
       " [1.4671387889688252, ['CHJ', '4ige', '3f4b', 'TCL']],\n",
       " [1.465686480527811, ['DHT', '4k7a', '2q7k', 'TES']],\n",
       " [1.4647358735060598, ['00J', '2xir', '4ase', '2oh4', 'GIG']],\n",
       " [1.4597800234301943, ['ATP', '2yaa', '3bhy', '7CP']],\n",
       " [1.455218102204677, ['E3O', '2j7y', '1x7r', '2pog', 'WST']],\n",
       " [1.450748261582313, ['PH7', '1yvf', '3hky', 'IX6']],\n",
       " [1.4496985169468197, ['937', '2yac', '2owb', '626']],\n",
       " [1.4355097799044727, ['ANP', '3gu4', '3bhy', '7CP']],\n",
       " [1.4234289978687642, ['P3F', '2fq6', '4itx', 'IN5']],\n",
       " [1.4212380095923258, ['1GH', '4alg', '4flp', 'JQ1']],\n",
       " [1.406395720098412, ['4OA', '4q0a', '2o4j', 'VD4']],\n",
       " [1.4047203288584782, ['42Q', '3vhe', '2oh4', 'GIG']],\n",
       " [1.4013367584796155, ['AS4', '2aa2', '2aax', 'PDN']],\n",
       " [1.3981820616552791, ['HI3', '3tyv', '2fvc', '888']],\n",
       " [1.39255487970903, ['EST', '4pxm', '2pog', 'WST']],\n",
       " [1.3832730287697101, ['VGG', '4lgg', '4k11', '0J9']],\n",
       " [1.3818272094070578, ['ADP', '3lct', '5aac', '4foc', '0UU']],\n",
       " [1.3759307647502759, ['T5X', '2r8o', '3upt', 'TPP']],\n",
       " [1.3723650940404284, ['ZY1', '2wf1', '4fco', '0U4']],\n",
       " [1.3678880271761706, ['YEX', '2yex', '4fsu', '1zys', '199']],\n",
       " [1.363370493980896, ['NN2', '2giq', '3tyv', 'HI3']],\n",
       " [1.3565157132979373, ['RAJ', '3be2', '4ase', '2xir', '00J']],\n",
       " [1.3494441736181937, ['0KF', '3vo3', '4ase', '3be2', 'RAJ']],\n",
       " [1.3039844801154625, ['4OA', '4q0a', '3vt3', 'VDX']],\n",
       " [1.2900478266586628, ['4OA', '4q0a', '3vtc', 'TK3']],\n",
       " [1.282970407986612, ['2EC', '2yee', '2xjj', '1yc1', '4BC']],\n",
       " [1.280876766731561, ['4HG', '2g1m', '4bqy', 'FNT']],\n",
       " [1.278019236186567, ['NN2', '2giq', '2fvc', '888']],\n",
       " [1.2602912879016235, ['0NQ', '4eaw', '2fvc', '888']],\n",
       " [1.255011722851856, ['SC3', '2aj8', '4a5s', 'N7F']],\n",
       " [1.245472492174152, ['TK3', '3vtc', '2o4j', 'VD4']],\n",
       " [1.2390064372246612, ['1GH', '4alg', '4bjx', '2yem', 'WSH']],\n",
       " [1.2371963609886356, ['NXZ', '3qbj', '2aj8', '4a5s', 'N7F']],\n",
       " [1.2339161210093557, ['IX6', '3hky', '3tyv', 'HI3']],\n",
       " [1.2182923757612094, ['WSH', '2yem', '4flp', 'JQ1']],\n",
       " [1.2123613312202854, ['STR', '4bb2', '2vdy', 'HCY']],\n",
       " [1.209407086241765, ['NN2', '2giq', '4eaw', '0NQ']],\n",
       " [1.194324753935478, ['5GP', '2xjc', '2xje', 'U5P']],\n",
       " [1.1814403940504452, ['0J9', '4k11', '4lgg', '1yol', 'S03']],\n",
       " [1.1808213365610774, ['DEX', '3mne', '4p6x', 'HCY']],\n",
       " [1.1733159781175138, ['EMH', '3aox', '5aac', '3lct', 'ADP']],\n",
       " [1.171179041369148, ['VDX', '3vt3', '2o4j', 'VD4']],\n",
       " [1.1653262482646372, ['IX6', '3hky', '2fvc', '888']],\n",
       " [1.1623293266425485, ['AS4', '2aa2', '2abi', '1CA']],\n",
       " [1.1620632310139987, ['X4Z', '4o0r', '2hy8', '1ST']],\n",
       " [1.1589166537944946, ['BNI', '2fhn', '1y52', 'BTN']],\n",
       " [1.1490889116187446, ['SAM', '3qwp', '3pdn', 'SFG']],\n",
       " [1.148204814361485, ['TZD', '4ju9', '4mq5', 'TPP']],\n",
       " [1.121785482609702, ['GPS', '2gst', '2c4j', 'GSO']],\n",
       " [1.108452804778307, ['TDC', '2vkv', '2xpw', 'OTC']],\n",
       " [1.0970678161850405, ['DCP', '2vp4', '2vp0', 'TTP']],\n",
       " [1.0879017330407528, ['GA3', '3ed1', '2zsi', 'GA4']],\n",
       " [1.087892574366349, ['BTN', '2c4i', '3vgw', 'NVZ']],\n",
       " [1.0861933896631693, ['M1S', '2iwx', '2wer', 'RDC']],\n",
       " [1.08161679578451, ['XTK', '5a8e', '2rh1', 'CAU']],\n",
       " [1.0811737282325518, ['NN2', '2giq', '3hky', 'IX6']],\n",
       " [1.0798099201433966, ['NDP', '3i8a', '3m09', 'NAP']],\n",
       " [1.0712740289720546, ['ANP', '4a61', '2zgy', 'GDP']],\n",
       " [1.0712407726332673, ['RDC', '2wer', '2cgf', 'P2N']],\n",
       " [1.066130471513876, ['YCF', '2ycf', '2ycr', 'HCW']],\n",
       " [1.065394987309645, ['TCL', '3f4b', '3lt0', 'FT1']],\n",
       " [1.0627340823970033, ['2VA', '1wnz', '1wk8', 'VMS']],\n",
       " [1.062414047716369, ['HTL', '3ahi', '3ahj', 'TPP']],\n",
       " [1.0618443950529965, ['4OA', '4q0a', '2o4j', '4fhh', '0U3']],\n",
       " [1.0491759498045397, ['TDC', '2vkv', '4b3a', 'TAC']],\n",
       " [1.032127741439015, ['GNP', '3th5', '2fju', 'GSP']],\n",
       " [1.0305014680563767, ['NDP', '2pkr', '3qv1', 'NAD']],\n",
       " [1.030292994953905, ['TK3', '3vtc', '3vt3', 'VDX']],\n",
       " [1.0193739402516482, ['FOL', '4x5f', '5hi6', 'MTX']],\n",
       " [1.008522696845561, ['ATP', '3wt0', '3wqt', 'ANP']],\n",
       " [1.008353036240611, ['P1H', '2ntv', '5coq', 'NAD']],\n",
       " [1.0010192513874305, ['C1E', '2rht', '2puj', 'HPZ']]]"
      ]
     },
     "execution_count": 27,
     "metadata": {},
     "output_type": "execute_result"
    }
   ],
   "source": [
    "import itertools\n",
    "\n",
    "scaffold_hops = []\n",
    "\n",
    "# Iterate through unique pairs of ligands\n",
    "for i,j in itertools.combinations(set(ligands[:700]), 2):\n",
    "    try:\n",
    "        # Compute dijkstra's shortest path (max length 2.5)\n",
    "        score, path = nx.single_source_dijkstra(PFG, \n",
    "                                                source=i, \n",
    "                                                target=j, \n",
    "                                                cutoff=2.5, \n",
    "                                                weight=lambda u , v, d: (1-d['weight']) \n",
    "                                               )\n",
    "        \n",
    "        # Filter cases where two ligands map to the same strcuture \n",
    "        if score == 2: continue\n",
    "        \n",
    "        # Compute scaffold hop score\n",
    "        ligand_sim = ligand_matrix.loc[i, j]\n",
    "        sh_score = (3 - score)/(ligand_sim)\n",
    "        \n",
    "        # Filer out scaffold hop scores < 1, which are not interesting\n",
    "        if sh_score < 1: continue\n",
    "            \n",
    "        scaffold_hops.append([sh_score, path] )\n",
    "        \n",
    "    except nx.NetworkXNoPath:\n",
    "        pass\n",
    "    \n",
    "# Sort paths by scaffold hop scores\n",
    "sorted(scaffold_hops, key=lambda x: x[0], reverse=True)"
   ]
  },
  {
   "cell_type": "markdown",
   "metadata": {},
   "source": [
    "# Results\n",
    "\n",
    "Top scaffold hops.\n",
    "\n",
    "Subset (a) exact same protein, (b) close homolog, (c) neither\n",
    "\n",
    "\n",
    "Exact same.  Map to same uniprot accession or ID.\n",
    "Close homolog. Different Uniprots, but same Pfam annotation, high GO Similarity, Species (paralog vs ortholog).\n",
    "\n",
    "Show that exact same are ranked highly.  Then filter out.  Same thing with close homologs.\n",
    "\n",
    "Interesting examples are (a) neither exact or close, (b) multi-hops.\n",
    "\n",
    "Search for prior information about \"interesting scaffold hops\" to see if we get anything new."
   ]
  },
  {
   "cell_type": "code",
   "execution_count": 41,
   "metadata": {},
   "outputs": [
    {
     "data": {
      "text/plain": [
       "{'weight': 0.9365721434464511}"
      ]
     },
     "execution_count": 41,
     "metadata": {},
     "output_type": "execute_result"
    }
   ],
   "source": [
    "# path = ['FID', '2agt', '2pdb', 'TLT']\n",
    "path = ['FID', '2pdb', '3s3g', 'TLT']\n",
    "n1, n2 = path[1], path[2]\n",
    "m1, m2 = path[0], path[3]\n",
    "PFG[n1][n2]"
   ]
  },
  {
   "cell_type": "code",
   "execution_count": 42,
   "metadata": {},
   "outputs": [
    {
     "name": "stdout",
     "output_type": "stream",
     "text": [
      "[{'id': '2PDB',\n",
      "  'polymerDescriptions': [{'chain': {'id': 'A'},\n",
      "                           'entityNr': '1',\n",
      "                           'enzClass': {'ec': '1.1.1.21'},\n",
      "                           'length': '316',\n",
      "                           'mutation': {'desc': 'L4I, F121P'},\n",
      "                           'polymerDescription': {'description': 'Aldose '\n",
      "                                                                 'reductase'}}]},\n",
      " [{'expMethod': 'X-RAY DIFFRACTION',\n",
      "   'keywords': 'OXIDOREDUCTASE',\n",
      "   'nr_atoms': '2607',\n",
      "   'nr_entities': '3',\n",
      "   'nr_residues': '316',\n",
      "   'organism': 'Homo sapiens',\n",
      "   'publish_date': '2007-03-31',\n",
      "   'pubmedId': '18495158',\n",
      "   'replaces': '',\n",
      "   'revision_date': '2008-04-01',\n",
      "   'status': 'CURRENT',\n",
      "   'structureId': '2PDB',\n",
      "   'title': 'Human aldose reductase mutant F121P complexed with zopolrestat.'}]]\n",
      "[{'id': '3S3G',\n",
      "  'polymerDescriptions': [{'chain': {'id': 'A'},\n",
      "                           'entityNr': '1',\n",
      "                           'enzClass': {'ec': '1.1.1.21'},\n",
      "                           'length': '336',\n",
      "                           'polymerDescription': {'description': 'Aldose '\n",
      "                                                                 'reductase'}}]},\n",
      " [{'expMethod': 'X-RAY DIFFRACTION',\n",
      "   'keywords': 'OXIDOREDUCTASE',\n",
      "   'nr_atoms': '2606',\n",
      "   'nr_entities': '3',\n",
      "   'nr_residues': '336',\n",
      "   'organism': 'Homo sapiens',\n",
      "   'publish_date': '2011-05-18',\n",
      "   'pubmedId': '22155003',\n",
      "   'replaces': '',\n",
      "   'revision_date': '2012-04-04',\n",
      "   'status': 'CURRENT',\n",
      "   'structureId': '3S3G',\n",
      "   'title': 'Crystal Structure of Human Aldose Reductase Complexed with '\n",
      "            'Tolmetin'}]]\n",
      "[[[{'chemicalID': 'FID',\n",
      "    'chemicalName': \"(2S,4S)-2-AMINOFORMYL-6-FLUORO-SPIRO[CHROMAN-4,4'-IMIDAZOLIDINE]-2',5'-DIONE\",\n",
      "    'formula': 'C12 H10 F N3 O4',\n",
      "    'smiles': 'c1cc2c(cc1F)[C]3(C[CH](O2)C(=O)N)C(=O)NC(=O)N3'}]],\n",
      " [[{'chemicalID': 'TLT',\n",
      "    'chemicalName': 'Tolmetin',\n",
      "    'formula': 'C15 H15 N O3',\n",
      "    'smiles': 'Cc1ccc(cc1)C(=O)c2ccc(n2C)CC(=O)O'}]]]\n"
     ]
    }
   ],
   "source": [
    "from pprint import pprint\n",
    "pprint([pdb_mol(n1), pdb_file(n1)] )\n",
    "pprint([pdb_mol(n2), pdb_file(n2)] )\n",
    "pprint([pdb_ligand(m1), pdb_ligand(m2)])"
   ]
  },
  {
   "cell_type": "code",
   "execution_count": 43,
   "metadata": {},
   "outputs": [
    {
     "name": "stdout",
     "output_type": "stream",
     "text": [
      "From\tTo\n",
      "2pdb\tP15121\n",
      "\n"
     ]
    }
   ],
   "source": [
    "pdb_uniprot(n1)"
   ]
  },
  {
   "cell_type": "code",
   "execution_count": 44,
   "metadata": {},
   "outputs": [
    {
     "name": "stdout",
     "output_type": "stream",
     "text": [
      "From\tTo\n",
      "3s3g\tP15121\n",
      "\n"
     ]
    }
   ],
   "source": [
    "pdb_uniprot(n2)"
   ]
  },
  {
   "cell_type": "markdown",
   "metadata": {},
   "source": [
    "Top scaffold hops.\n",
    "\n"
   ]
  },
  {
   "cell_type": "code",
   "execution_count": null,
   "metadata": {},
   "outputs": [],
   "source": []
  }
 ],
 "metadata": {
  "kernelspec": {
   "display_name": "Python 3",
   "language": "python",
   "name": "python3"
  },
  "language_info": {
   "codemirror_mode": {
    "name": "ipython",
    "version": 3
   },
   "file_extension": ".py",
   "mimetype": "text/x-python",
   "name": "python",
   "nbconvert_exporter": "python",
   "pygments_lexer": "ipython3",
   "version": "3.6.5"
  }
 },
 "nbformat": 4,
 "nbformat_minor": 2
}
