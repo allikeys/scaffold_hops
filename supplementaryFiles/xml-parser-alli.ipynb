{
 "cells": [
  {
   "cell_type": "code",
   "execution_count": 2,
   "metadata": {},
   "outputs": [],
   "source": [
    "from lxml import etree\n",
    "import requests\n",
    "\n",
    "response = requests.get('https://www.rcsb.org/pdb/rest/describeMol?structureId=2O4J')\n",
    "tree = etree.fromstring(response.content)"
   ]
  },
  {
   "cell_type": "code",
   "execution_count": 5,
   "metadata": {},
   "outputs": [
    {
     "name": "stdout",
     "output_type": "stream",
     "text": [
      "<Element structureId at 0x10e9a2d48>\n",
      "<Element polymer at 0x10f457948>\n",
      "<Element chain at 0x10fe6eb48>\n",
      "<Element Taxonomy at 0x10fe6eec8>\n",
      "<Element synonym at 0x10f457948>\n",
      "<Element macroMolecule at 0x10fdee6c8>\n",
      "<Element accession at 0x10fe6eec8>\n",
      "<Element polymerDescription at 0x10fe6eb48>\n",
      "<Element fragment at 0x10fdee6c8>\n",
      "<Element mutation at 0x10fe6eec8>\n",
      "<Element polymer at 0x10f457948>\n",
      "<Element chain at 0x10fdee6c8>\n",
      "<Element Taxonomy at 0x10fe6eec8>\n",
      "<Element synonym at 0x10f457948>\n",
      "<Element macroMolecule at 0x10fdee6c8>\n",
      "<Element accession at 0x10fe6eec8>\n",
      "<Element polymerDescription at 0x10fe6eb48>\n",
      "<Element fragment at 0x10fdee6c8>\n"
     ]
    }
   ],
   "source": [
    "from pprint import pprint\n",
    "\n",
    "for e in tree[0].iter():\n",
    "    pprint(e)\n",
    "# pprint(etree.tostring(tree))"
   ]
  },
  {
   "cell_type": "code",
   "execution_count": 56,
   "metadata": {},
   "outputs": [
    {
     "name": "stdout",
     "output_type": "stream",
     "text": [
      "{'hmmer3': {'pfamHit': {'chainId': 'A',\n",
      "                        'eValue': '4.8E-24',\n",
      "                        'pdbResNumEnd': '397',\n",
      "                        'pdbResNumStart': '225',\n",
      "                        'pfamAcc': 'PF00104.29',\n",
      "                        'pfamDesc': 'Ligand-binding domain of nuclear hormone '\n",
      "                                    'receptor',\n",
      "                        'pfamName': 'Hormone_recep',\n",
      "                        'structureId': '2O4J'}}}\n"
     ]
    }
   ],
   "source": [
    "import xmltodict, json\n",
    "\n",
    "response = requests.get( f'https://www.rcsb.org/pdb/rest/hmmer?structureId=2O4J')\n",
    "pprint(json.loads( json.dumps(xmltodict.parse(response.content, attr_prefix='')) ))"
   ]
  },
  {
   "cell_type": "code",
   "execution_count": null,
   "metadata": {},
   "outputs": [],
   "source": []
  }
 ],
 "metadata": {
  "kernelspec": {
   "display_name": "Python 3",
   "language": "python",
   "name": "python3"
  },
  "language_info": {
   "codemirror_mode": {
    "name": "ipython",
    "version": 3
   },
   "file_extension": ".py",
   "mimetype": "text/x-python",
   "name": "python",
   "nbconvert_exporter": "python",
   "pygments_lexer": "ipython3",
   "version": "3.6.5"
  }
 },
 "nbformat": 4,
 "nbformat_minor": 2
}
