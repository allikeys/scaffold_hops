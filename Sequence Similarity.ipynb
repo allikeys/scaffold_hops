{
 "cells": [
  {
   "cell_type": "code",
   "execution_count": null,
   "metadata": {},
   "outputs": [],
   "source": [
    "from services.pdb import pfam, pdbligand, pdbmolecule\n",
    "from services.classyfire import classyfire\n",
    "from services.uniprot import pdb2uniprot\n",
    "from services.uniprot import pdb2uniprotAC\n",
    "from services.uniprot import entry2ACC\n",
    "from services.pubchem import get_image\n",
    "from collections import defaultdict\n",
    "from tqdm import tqdm\n",
    "from math import ceil\n",
    "import pandas as pd"
   ]
  },
  {
   "cell_type": "markdown",
   "metadata": {},
   "source": [
    "## Create dictionary mapping PDB ID to chain containing the binding pocket"
   ]
  },
  {
   "cell_type": "code",
   "execution_count": null,
   "metadata": {},
   "outputs": [],
   "source": [
    "header = {0:\"pdb\", 1:\"lig\", 2:\"chain\", 3:\"num\"}\n",
    "pdbs = pd.read_csv('./data/PDB_List_Final.txt', header=None, sep='\\t')\n",
    "pdbs = pdbs.rename(columns=header)\n",
    "pdb_dict = dict(zip(pdbs.pdb, pdbs.chain))\n",
    "\n",
    "pdb_ligs = pdbs\n",
    "pdb_ligs['pdb_lig'] = pdbs[['pdb', 'lig']].apply(lambda row: '_'.join(row.values.astype(str)), axis=1)\n",
    "pdb_lig_dict  = dict(zip(pdb_ligs.pdb_lig, pdb_ligs.chain))"
   ]
  },
  {
   "cell_type": "markdown",
   "metadata": {},
   "source": [
    "## Gather Relationships between PDB + Chain and Uniprot ID"
   ]
  },
  {
   "cell_type": "code",
   "execution_count": null,
   "metadata": {},
   "outputs": [],
   "source": [
    "from pprint import pprint\n",
    "PDB_list = pdb_dict.keys()\n",
    "\n",
    "count = 0\n",
    "\n",
    "seqDict = {}\n",
    "for mol in PDB_list:\n",
    "    chain_entry = {}\n",
    "    polymer = pdbmolecule(mol)['polymer'] #Geting data from pdb API\n",
    "    for j in range(len(polymer)): \n",
    "        if type(polymer) == list:\n",
    "            if type(polymer[j]['chain']) == list: \n",
    "                chain = polymer[j]['chain'][0]['id']\n",
    "            else:\n",
    "                chain = polymer[j]['chain']['id']\n",
    "            if 'macroMolecule' in polymer[j]: #Else uniprotACC is empty\n",
    "                uniprotACC = polymer[j]['macroMolecule']['accession']['id']\n",
    "            else:\n",
    "                print('empty uniprot accession')\n",
    "        else: \n",
    "            if type(polymer['chain']) == list: \n",
    "                chain = polymer['chain'][0]['id']\n",
    "            else:\n",
    "                chain = polymer['chain']['id']\n",
    "            try:\n",
    "                uniprotACC = polymer['macroMolecule']['accession']['id']\n",
    "            except:\n",
    "                print(mol)\n",
    "                pprint(pdbmolecule(mol))\n",
    "                pprint(polymer)\n",
    "                print(len(polymer))\n",
    "                count += 1\n",
    "                print(f\"whoopsie! Mistake number {count}\")\n",
    "                \n",
    "        chain_entry[chain] = uniprotACC\n",
    "        seqDict[mol] = chain_entry"
   ]
  },
  {
   "cell_type": "markdown",
   "metadata": {},
   "source": [
    "## Prepare the sequence alignment matrix"
   ]
  },
  {
   "cell_type": "code",
   "execution_count": null,
   "metadata": {},
   "outputs": [],
   "source": [
    "pdb_acc = {}\n",
    "for pdbid in pdb_lig_dict.keys():\n",
    "    try: \n",
    "        pdb_acc[pdbid] = seqDict[pdbid[0:4]][pdb_lig_dict[pdbid]]\n",
    "    except:\n",
    "        missing = True\n",
    "\n",
    "align = pd.read_csv('./data/align_scores.csv', sep=',', index_col='seq1')\n",
    "\n",
    "id_acc_mapping = pd.read_csv(entry2ACC(align.columns), sep='\\t')\n",
    "id_acc_dict = dict(zip(id_acc_mapping.To, id_acc_mapping.From))\n",
    "\n",
    "def getID(pdb):\n",
    "    return acc_id[pdb_acc[pdb]]\n",
    "\n",
    "seq_align = pd.DataFrame(columns = pdb_lig_dict.keys())\n",
    "pdb_acc = defaultdict(lambda: 0, pdb_acc)\n",
    "acc_id = defaultdict(lambda: 0, id_acc_dict)\n",
    "\n",
    "#update to seq align values. \n",
    "pockets = list(pdb_lig_dict.keys())\n",
    "for i in range(10):\n",
    "    file = open('seqAlign_' + str(i) +'.csv', 'w+')\n",
    "    seq_align = pd.DataFrame(columns = pdb_lig_dict.keys())\n",
    "    \n",
    "    for j in tqdm(range(ceil(len(pockets)/10*i), ceil(len(pockets)/10*(i+1)))):\n",
    "        pdb1 = pockets[j]\n",
    "        seq_align.loc[pdb1] = 0\n",
    "        seqID1 = acc_id[pdb_acc[pdb1]]\n",
    "        for pdb2 in pockets:\n",
    "            seqID2 = acc_id[pdb_acc[pdb2]]\n",
    "\n",
    "            if seqID1 != 0 and seqID2 != 0:\n",
    "                seq_align.loc[pdb1, pdb2] = align.loc[seqID1, seqID2]\n",
    "    file.write(seq_align.to_csv())\n",
    "    file.close()"
   ]
  },
  {
   "cell_type": "markdown",
   "metadata": {},
   "source": [
    "## Read in sequence alignment values and normalize final matrix"
   ]
  },
  {
   "cell_type": "code",
   "execution_count": null,
   "metadata": {},
   "outputs": [],
   "source": [
    "lines = []\n",
    "for i in range(10):\n",
    "    new_df = pd.read_csv('seqAlign_' + str(i) +'.csv', index_col=0)\n",
    "    lines.append(new_df)\n",
    "seq_align = pd.concat(lines, axis=0)\n",
    "print(seq_align)\n",
    "\n",
    "for row in seq_align.index:\n",
    "    for col in seq_align.index:\n",
    "        seq_align[row][col] = seq_align[row][col] / max(seq_align[row][row] , seq_align[col][col])\n",
    "    print(row)\n",
    "print(seq_align)"
   ]
  }
 ],
 "metadata": {
  "kernelspec": {
   "display_name": "Python 3",
   "language": "python",
   "name": "python3"
  },
  "language_info": {
   "codemirror_mode": {
    "name": "ipython",
    "version": 3
   },
   "file_extension": ".py",
   "mimetype": "text/x-python",
   "name": "python",
   "nbconvert_exporter": "python",
   "pygments_lexer": "ipython3",
   "version": "3.7.6"
  }
 },
 "nbformat": 4,
 "nbformat_minor": 4
}
